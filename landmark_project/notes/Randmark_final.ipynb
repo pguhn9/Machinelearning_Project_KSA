{
 "cells": [
  {
   "cell_type": "code",
   "execution_count": 1,
   "id": "70943781",
   "metadata": {
    "scrolled": true
   },
   "outputs": [],
   "source": [
    "import pandas as pd\n",
    "import sys, os\n",
    "train = pd.read_csv('D:/혁신성장/train/public/final_landmark(1).csv', encoding='cp949')\n",
    "category = pd.read_csv('D:/혁신성장/train/public/category.csv')\n",
    "\n",
    "train['filepath'] = [('D:/혁신성장/train/public/서울시/' + category[category[\"landmark_id\"] == lm_id].iloc[0,1] + '/' + str(id)+'.JPG') for lm_id, id in zip(train['landmark_id'], train['id'])]\n"
   ]
  },
  {
   "cell_type": "code",
   "execution_count": 2,
   "id": "fe8acb5b",
   "metadata": {},
   "outputs": [],
   "source": [
    "train = train.drop([\"id\",\"landmark_id\"], axis = 1)"
   ]
  },
  {
   "cell_type": "code",
   "execution_count": 3,
   "id": "a92f3261",
   "metadata": {},
   "outputs": [
    {
     "data": {
      "text/plain": [
       "'D:/혁신성장/train/public/서울시/북악팔각정/북악팔각정_033.JPG'"
      ]
     },
     "execution_count": 3,
     "metadata": {},
     "output_type": "execute_result"
    }
   ],
   "source": [
    "import unicodedata\n",
    "#train['filepath'] = train['filepath'].apply(lambda x: unicodedata.normalize('NFD',x))\n",
    "\n",
    "train[\"filepath\"][1]"
   ]
  },
  {
   "cell_type": "code",
   "execution_count": 4,
   "id": "f7ed397e",
   "metadata": {},
   "outputs": [
    {
     "name": "stdout",
     "output_type": "stream",
     "text": [
      "<class 'pandas.core.frame.DataFrame'>\n",
      "RangeIndex: 6703 entries, 0 to 6702\n",
      "Data columns (total 2 columns):\n",
      " #   Column    Non-Null Count  Dtype \n",
      "---  ------    --------------  ----- \n",
      " 0   label     6703 non-null   int64 \n",
      " 1   filepath  6703 non-null   object\n",
      "dtypes: int64(1), object(1)\n",
      "memory usage: 104.9+ KB\n"
     ]
    }
   ],
   "source": [
    "train.info()"
   ]
  },
  {
   "cell_type": "code",
   "execution_count": 5,
   "id": "a74665b4",
   "metadata": {},
   "outputs": [
    {
     "name": "stdout",
     "output_type": "stream",
     "text": [
      "['NanumGothic']\n"
     ]
    }
   ],
   "source": [
    "# 폰트 설정 방법 1\n",
    "import matplotlib.pyplot as plt\n",
    "import seaborn as sns\n",
    "# matplotlib 폰트설정\n",
    "# plt.rc('font', family='NanumGothicOTF') # For MacOS\n",
    "plt.rc('font', family='NanumGothic') # For Windows\n",
    "print(plt.rcParams['font.family'])\n",
    "\n",
    "%matplotlib inline\n",
    "# 브라우저에서 바로 이미지를 그린다.\n",
    "import numpy as np\n",
    "index = np.arange(3)"
   ]
  },
  {
   "cell_type": "code",
   "execution_count": 6,
   "id": "7142edc8",
   "metadata": {},
   "outputs": [
    {
     "data": {
      "text/plain": [
       "0    2723\n",
       "2    2100\n",
       "1    1880\n",
       "Name: label, dtype: int64"
      ]
     },
     "execution_count": 6,
     "metadata": {},
     "output_type": "execute_result"
    }
   ],
   "source": [
    "train['label'].value_counts()"
   ]
  },
  {
   "cell_type": "code",
   "execution_count": 7,
   "id": "0fb1cb8a",
   "metadata": {},
   "outputs": [
    {
     "data": {
      "text/plain": [
       "Text(0, 0.5, '샘플 수')"
      ]
     },
     "execution_count": 7,
     "metadata": {},
     "output_type": "execute_result"
    },
    {
     "data": {
      "image/png": "[encoded data removed]",
      "text/plain": [
       "<Figure size 936x504 with 1 Axes>"
      ]
     },
     "metadata": {
      "needs_background": "light"
     },
     "output_type": "display_data"
    }
   ],
   "source": [
    "colors = sns.color_palette('hls',3)\n",
    "plt.figure(figsize=(13,7))\n",
    "train['label'].value_counts().plot.bar(color= colors)\n",
    "plt.title(\"라벨별 데이터 갯수\", fontsize = 30)\n",
    "plt.xticks(index, ['한옥','풍경','백화점'], fontsize = 16, rotation=0)\n",
    "plt.ylabel(\"샘플 수\",fontsize = 20)"
   ]
  },
  {
   "cell_type": "markdown",
   "id": "1b81e442",
   "metadata": {},
   "source": [
    "### train, test 데이터 분리"
   ]
  },
  {
   "cell_type": "code",
   "execution_count": 8,
   "id": "f0393550",
   "metadata": {},
   "outputs": [
    {
     "name": "stdout",
     "output_type": "stream",
     "text": [
      "0    0.406266\n",
      "2    0.313277\n",
      "1    0.280457\n",
      "Name: label, dtype: float64\n",
      "0    0.406236\n",
      "2    0.313293\n",
      "1    0.280471\n",
      "Name: label, dtype: float64\n"
     ]
    }
   ],
   "source": [
    "from sklearn.model_selection import StratifiedShuffleSplit\n",
    "split = StratifiedShuffleSplit(n_splits=1, test_size=0.3, random_state=42)\n",
    "for train_index, test_index in split.split(train,train[\"label\"]):\n",
    "    strat_train_set = train.loc[train_index]\n",
    "    strat_test_set = train.loc[test_index]\n",
    "print(strat_test_set[\"label\"].value_counts()/len(strat_test_set))\n",
    "print(train[\"label\"].value_counts()/len(train))"
   ]
  },
  {
   "cell_type": "code",
   "execution_count": 9,
   "id": "800281b1",
   "metadata": {},
   "outputs": [
    {
     "data": {
      "text/html": [
       "<div>\n",
       "<style scoped>\n",
       "    .dataframe tbody tr th:only-of-type {\n",
       "        vertical-align: middle;\n",
       "    }\n",
       "\n",
       "    .dataframe tbody tr th {\n",
       "        vertical-align: top;\n",
       "    }\n",
       "\n",
       "    .dataframe thead th {\n",
       "        text-align: right;\n",
       "    }\n",
       "</style>\n",
       "<table border=\"1\" class=\"dataframe\">\n",
       "  <thead>\n",
       "    <tr style=\"text-align: right;\">\n",
       "      <th></th>\n",
       "      <th>label</th>\n",
       "      <th>filepath</th>\n",
       "    </tr>\n",
       "  </thead>\n",
       "  <tbody>\n",
       "    <tr>\n",
       "      <th>5763</th>\n",
       "      <td>2</td>\n",
       "      <td>D:/혁신성장/train/public/서울시/롯데백화점[잠실]/롯데백화점[잠실]_1...</td>\n",
       "    </tr>\n",
       "    <tr>\n",
       "      <th>4761</th>\n",
       "      <td>2</td>\n",
       "      <td>D:/혁신성장/train/public/서울시/롯데백화점[영등포]/롯데백화점[영등포]...</td>\n",
       "    </tr>\n",
       "    <tr>\n",
       "      <th>1989</th>\n",
       "      <td>0</td>\n",
       "      <td>D:/혁신성장/train/public/서울시/광희문/광희문_051.JPG</td>\n",
       "    </tr>\n",
       "    <tr>\n",
       "      <th>1867</th>\n",
       "      <td>0</td>\n",
       "      <td>D:/혁신성장/train/public/서울시/문묘/문묘_024.JPG</td>\n",
       "    </tr>\n",
       "    <tr>\n",
       "      <th>1971</th>\n",
       "      <td>0</td>\n",
       "      <td>D:/혁신성장/train/public/서울시/광희문/광희문_035.JPG</td>\n",
       "    </tr>\n",
       "    <tr>\n",
       "      <th>...</th>\n",
       "      <td>...</td>\n",
       "      <td>...</td>\n",
       "    </tr>\n",
       "    <tr>\n",
       "      <th>4442</th>\n",
       "      <td>1</td>\n",
       "      <td>D:/혁신성장/train/public/서울시/몽촌토성/몽촌토성_098.JPG</td>\n",
       "    </tr>\n",
       "    <tr>\n",
       "      <th>2891</th>\n",
       "      <td>1</td>\n",
       "      <td>D:/혁신성장/train/public/서울시/한남대교/한남대교_014.JPG</td>\n",
       "    </tr>\n",
       "    <tr>\n",
       "      <th>1344</th>\n",
       "      <td>0</td>\n",
       "      <td>D:/혁신성장/train/public/서울시/서울금성당/서울금성당_110.JPG</td>\n",
       "    </tr>\n",
       "    <tr>\n",
       "      <th>422</th>\n",
       "      <td>0</td>\n",
       "      <td>D:/혁신성장/train/public/서울시/대각사/대각사_007.JPG</td>\n",
       "    </tr>\n",
       "    <tr>\n",
       "      <th>3590</th>\n",
       "      <td>1</td>\n",
       "      <td>D:/혁신성장/train/public/서울시/청담대교/청담대교_064.JPG</td>\n",
       "    </tr>\n",
       "  </tbody>\n",
       "</table>\n",
       "<p>4692 rows × 2 columns</p>\n",
       "</div>"
      ],
      "text/plain": [
       "      label                                           filepath\n",
       "5763      2  D:/혁신성장/train/public/서울시/롯데백화점[잠실]/롯데백화점[잠실]_1...\n",
       "4761      2  D:/혁신성장/train/public/서울시/롯데백화점[영등포]/롯데백화점[영등포]...\n",
       "1989      0           D:/혁신성장/train/public/서울시/광희문/광희문_051.JPG\n",
       "1867      0             D:/혁신성장/train/public/서울시/문묘/문묘_024.JPG\n",
       "1971      0           D:/혁신성장/train/public/서울시/광희문/광희문_035.JPG\n",
       "...     ...                                                ...\n",
       "4442      1         D:/혁신성장/train/public/서울시/몽촌토성/몽촌토성_098.JPG\n",
       "2891      1         D:/혁신성장/train/public/서울시/한남대교/한남대교_014.JPG\n",
       "1344      0       D:/혁신성장/train/public/서울시/서울금성당/서울금성당_110.JPG\n",
       "422       0           D:/혁신성장/train/public/서울시/대각사/대각사_007.JPG\n",
       "3590      1         D:/혁신성장/train/public/서울시/청담대교/청담대교_064.JPG\n",
       "\n",
       "[4692 rows x 2 columns]"
      ]
     },
     "execution_count": 9,
     "metadata": {},
     "output_type": "execute_result"
    }
   ],
   "source": [
    "strat_train_set"
   ]
  },
  {
   "cell_type": "markdown",
   "id": "dd4c8e78",
   "metadata": {},
   "source": [
    "### 이미지 흑백으로 변환 및 배열 전환\n",
    "단순 코드임. 실행 안됨."
   ]
  },
  {
   "cell_type": "code",
   "execution_count": 17,
   "id": "45b8214a",
   "metadata": {},
   "outputs": [
    {
     "data": {
      "text/plain": [
       "0"
      ]
     },
     "execution_count": 17,
     "metadata": {},
     "output_type": "execute_result"
    }
   ],
   "source": [
    "strat_train_set[\"label\"][0]"
   ]
  },
  {
   "cell_type": "code",
   "execution_count": 23,
   "id": "3fd97365",
   "metadata": {},
   "outputs": [
    {
     "ename": "NameError",
     "evalue": "name 'i' is not defined",
     "output_type": "error",
     "traceback": [
      "\u001b[1;31m---------------------------------------------------------------------------\u001b[0m",
      "\u001b[1;31mNameError\u001b[0m                                 Traceback (most recent call last)",
      "\u001b[1;32m<ipython-input-23-ea33f59b6205>\u001b[0m in \u001b[0;36m<module>\u001b[1;34m\u001b[0m\n\u001b[0;32m      8\u001b[0m \u001b[0mimage_size\u001b[0m \u001b[1;33m=\u001b[0m \u001b[1;36m9216\u001b[0m\u001b[1;33m\u001b[0m\u001b[1;33m\u001b[0m\u001b[0m\n\u001b[0;32m      9\u001b[0m \u001b[0mimages_arr\u001b[0m \u001b[1;33m=\u001b[0m \u001b[0mnp\u001b[0m\u001b[1;33m.\u001b[0m\u001b[0mzeros\u001b[0m\u001b[1;33m(\u001b[0m\u001b[1;33m(\u001b[0m\u001b[0mlen\u001b[0m\u001b[1;33m(\u001b[0m\u001b[0mstrat_train_set\u001b[0m\u001b[1;33m)\u001b[0m\u001b[1;33m,\u001b[0m \u001b[0mimage_size\u001b[0m\u001b[1;33m)\u001b[0m\u001b[1;33m)\u001b[0m\u001b[1;33m\u001b[0m\u001b[1;33m\u001b[0m\u001b[0m\n\u001b[1;32m---> 10\u001b[1;33m \u001b[0mimages_arr\u001b[0m\u001b[1;33m[\u001b[0m\u001b[0mi\u001b[0m\u001b[1;33m]\u001b[0m \u001b[1;33m=\u001b[0m \u001b[0mim\u001b[0m\u001b[1;33m\u001b[0m\u001b[1;33m\u001b[0m\u001b[0m\n\u001b[0m",
      "\u001b[1;31mNameError\u001b[0m: name 'i' is not defined"
     ]
    }
   ],
   "source": [
    "img_array = np.fromfile(strat_train_set[\"filepath\"][1], np.uint8) #이미지 READ\n",
    "im = cv2.imdecode( img_array, cv2.IMREAD_GRAYSCALE) #이미지 흑백화\n",
    "im = cv2.resize(im, dsize=(16*8, 9*8), interpolation=cv2.INTER_AREA) # 이미지 resize\n",
    "im = im.reshape(-1) #이미지 flatten\n",
    "im = im[np.newaxis]\n",
    "images_arr[i] = im"
   ]
  },
  {
   "cell_type": "markdown",
   "id": "ec68c3a0",
   "metadata": {},
   "source": [
    "### train 이미지 배열로 저장"
   ]
  },
  {
   "cell_type": "code",
   "execution_count": 24,
   "id": "185205e2",
   "metadata": {
    "scrolled": true
   },
   "outputs": [
    {
     "name": "stdout",
     "output_type": "stream",
     "text": [
      "[[ 36.  36.  36. ...  77.  74.  85.]\n",
      " [216. 215. 202. ... 128. 128. 127.]\n",
      " [187. 188. 187. ...  62.  65.  66.]\n",
      " [ 34.  40.  39. ... 152. 153. 147.]\n",
      " [152. 154. 155. ...  91.  93.  95.]]\n",
      "(4692, 9216)\n"
     ]
    }
   ],
   "source": [
    "import numpy as np\n",
    "import cv2\n",
    "\n",
    "image_size = 9216 #518400\n",
    "\n",
    "#이미지 배열 크기 할당\n",
    "images_arr = np.zeros((len(strat_train_set), image_size))\n",
    "\n",
    "strat_train_set = strat_train_set.reset_index().drop(\"index\",axis=1)\n",
    "for i in range(len(strat_train_set)):\n",
    "    img_array = np.fromfile(strat_train_set[\"filepath\"][i], np.uint8) #이미지 READ\n",
    "    im = cv2.imdecode( img_array, cv2.IMREAD_GRAYSCALE) #이미지 흑백화\n",
    "    im = cv2.resize(im, dsize=(16*8, 9*8), interpolation=cv2.INTER_AREA) # 이미지 resize\n",
    "    im = im.reshape(-1) #이미지 flatten\n",
    "    im = im[np.newaxis]\n",
    "    images_arr[i] = im\n",
    "    \n",
    "\n",
    "#print(len(images_arr[file_list]))\n",
    "print(images_arr[0:5])\n",
    "print(images_arr.shape)"
   ]
  },
  {
   "cell_type": "code",
   "execution_count": 25,
   "id": "a341cf6a",
   "metadata": {},
   "outputs": [],
   "source": [
    "x, y = images_arr, strat_train_set[\"label\"]"
   ]
  },
  {
   "cell_type": "code",
   "execution_count": 26,
   "id": "b1e5eca3",
   "metadata": {},
   "outputs": [
    {
     "name": "stdout",
     "output_type": "stream",
     "text": [
      "[[231. 231. 231. ...  63.  58.  67.]\n",
      " [ 71.  70.  72. ... 125. 129. 138.]\n",
      " [255. 255. 255. ... 124. 128. 129.]\n",
      " [ 96.  79.  62. ... 114. 114. 110.]\n",
      " [124. 124. 125. ... 119. 111. 112.]]\n",
      "(2011, 9216)\n"
     ]
    }
   ],
   "source": [
    "  image_size = 9216 #518400\n",
    "\n",
    "#이미지 배열 크기 할당\n",
    "images_arr = np.zeros((len(strat_test_set), image_size))\n",
    "\n",
    "strat_test_set = strat_test_set.reset_index().drop(\"index\",axis=1)\n",
    "for i in range(len(strat_test_set)):\n",
    "    img_array = np.fromfile(strat_test_set[\"filepath\"][i], np.uint8) #이미지 READ\n",
    "    im = cv2.imdecode( img_array, cv2.IMREAD_GRAYSCALE) #이미지 흑백화\n",
    "    im = cv2.resize(im, dsize=(16*8, 9*8), interpolation=cv2.INTER_AREA) # 이미지 resize\n",
    "    im = im.reshape(-1) #이미지 flatten\n",
    "    im = im[np.newaxis]\n",
    "    images_arr[i] = im\n",
    "    \n",
    "\n",
    "#print(len(images_arr[file_list]))\n",
    "print(images_arr[0:5])\n",
    "print(images_arr.shape)"
   ]
  },
  {
   "cell_type": "code",
   "execution_count": 27,
   "id": "1abdd8f1",
   "metadata": {},
   "outputs": [],
   "source": [
    "x_test, y_test = images_arr, strat_test_set[\"label\"]"
   ]
  },
  {
   "cell_type": "code",
   "execution_count": 28,
   "id": "7042127b",
   "metadata": {
    "scrolled": true
   },
   "outputs": [
    {
     "data": {
      "text/plain": [
       "array([[ 36.,  36.,  36., ...,  77.,  74.,  85.],\n",
       "       [216., 215., 202., ..., 128., 128., 127.],\n",
       "       [187., 188., 187., ...,  62.,  65.,  66.],\n",
       "       ...,\n",
       "       [211., 210., 207., ..., 147., 123.,  74.],\n",
       "       [ 20.,  78., 135., ..., 136., 138., 145.],\n",
       "       [156., 155., 154., ...,  73.,  69.,  68.]])"
      ]
     },
     "execution_count": 28,
     "metadata": {},
     "output_type": "execute_result"
    }
   ],
   "source": [
    "x "
   ]
  },
  {
   "cell_type": "code",
   "execution_count": 29,
   "id": "e8e79ce4",
   "metadata": {},
   "outputs": [
    {
     "data": {
      "text/plain": [
       "0       2\n",
       "1       2\n",
       "2       0\n",
       "3       0\n",
       "4       0\n",
       "       ..\n",
       "4687    1\n",
       "4688    1\n",
       "4689    0\n",
       "4690    0\n",
       "4691    1\n",
       "Name: label, Length: 4692, dtype: int64"
      ]
     },
     "execution_count": 29,
     "metadata": {},
     "output_type": "execute_result"
    }
   ],
   "source": [
    "y"
   ]
  },
  {
   "cell_type": "markdown",
   "id": "a66335c1",
   "metadata": {},
   "source": [
    "### 평균이미지"
   ]
  },
  {
   "cell_type": "code",
   "execution_count": 30,
   "id": "88869fa1",
   "metadata": {},
   "outputs": [],
   "source": [
    "kor_house = x[y[y==0].index]\n",
    "scenery = x[y[y==1].index]\n",
    "department = x[y[y==2].index]"
   ]
  },
  {
   "cell_type": "code",
   "execution_count": 31,
   "id": "2e278393",
   "metadata": {},
   "outputs": [
    {
     "data": {
      "image/png": "[encoded data removed]",
      "text/plain": [
       "<Figure size 432x288 with 1 Axes>"
      ]
     },
     "metadata": {
      "needs_background": "light"
     },
     "output_type": "display_data"
    },
    {
     "data": {
      "image/png": "[encoded data removed]",
      "text/plain": [
       "<Figure size 432x288 with 1 Axes>"
      ]
     },
     "metadata": {
      "needs_background": "light"
     },
     "output_type": "display_data"
    },
    {
     "data": {
      "image/png": "[encoded data removed]",
      "text/plain": [
       "<Figure size 432x288 with 1 Axes>"
      ]
     },
     "metadata": {
      "needs_background": "light"
     },
     "output_type": "display_data"
    },
    {
     "data": {
      "image/png": "[encoded data removed]",
      "text/plain": [
       "<Figure size 432x288 with 1 Axes>"
      ]
     },
     "metadata": {
      "needs_background": "light"
     },
     "output_type": "display_data"
    }
   ],
   "source": [
    "def find_mean_img(full_mat, title, size = (9*8, 16*8)):\n",
    "    # calculate the average\n",
    "    mean_img = np.mean(full_mat, axis = 0)\n",
    "    # reshape it back to a matrix\n",
    "    mean_img = mean_img.reshape(size)\n",
    "    plt.imshow(mean_img, vmin=0, vmax=255, cmap='Greys_r')\n",
    "    plt.title(f'Average {title}')\n",
    "    plt.axis('off')\n",
    "    plt.show()\n",
    "    return mean_img\n",
    "\n",
    "k = find_mean_img(kor_house, 'KOR_HOUSE')\n",
    "s = find_mean_img(scenery, 'SCENERY')\n",
    "d = find_mean_img(department, 'DEPARTMENT')\n",
    "n = find_mean_img(x, 'NORMAL')"
   ]
  },
  {
   "cell_type": "code",
   "execution_count": 32,
   "id": "38e4b821",
   "metadata": {},
   "outputs": [
    {
     "data": {
      "text/plain": [
       "(array([0.00129574, 0.00043191, 0.00237552, 0.00194361, 0.00280744,\n",
       "        0.00539892, 0.00410318, 0.00734253, 0.01036592, 0.0079904 ,\n",
       "        0.01274145, 0.01209358, 0.01403719, 0.01209358, 0.01166166,\n",
       "        0.01511697, 0.01144571, 0.01058188, 0.01036592, 0.0095021 ,\n",
       "        0.00755849, 0.0095021 , 0.00885423, 0.00626275, 0.01014997,\n",
       "        0.00842231, 0.00626275, 0.0095021 , 0.01425315, 0.01079784,\n",
       "        0.01360528, 0.01209358, 0.0095021 , 0.01014997, 0.01230953,\n",
       "        0.01036592, 0.01036592, 0.00928614, 0.01187762, 0.01166166,\n",
       "        0.01252549, 0.00928614, 0.01144571, 0.01360528, 0.00842231,\n",
       "        0.01338932, 0.00971805, 0.01252549, 0.01209358, 0.01252549,\n",
       "        0.01641271, 0.01144571, 0.01360528, 0.01144571, 0.01144571,\n",
       "        0.01533293, 0.01468506, 0.0159808 , 0.01403719, 0.01252549,\n",
       "        0.01317336, 0.01382123, 0.01014997, 0.01209358, 0.01274145,\n",
       "        0.01274145, 0.01122975, 0.01101379, 0.01468506, 0.01252549,\n",
       "        0.01403719, 0.01360528, 0.01338932, 0.01209358, 0.01727654,\n",
       "        0.01619676, 0.01554889, 0.01619676, 0.01878824, 0.01554889,\n",
       "        0.01792441, 0.01641271, 0.0159808 , 0.01662867, 0.01533293,\n",
       "        0.01533293, 0.01576484, 0.01274145, 0.01922015, 0.01727654,\n",
       "        0.01619676, 0.0144691 , 0.01295741, 0.00993401, 0.00691062,\n",
       "        0.00475105, 0.00215957, 0.00280744, 0.00237552, 0.00237552]),\n",
       " array([ 85.55714286,  86.4394898 ,  87.32183673,  88.20418367,\n",
       "         89.08653061,  89.96887755,  90.85122449,  91.73357143,\n",
       "         92.61591837,  93.49826531,  94.38061224,  95.26295918,\n",
       "         96.14530612,  97.02765306,  97.91      ,  98.79234694,\n",
       "         99.67469388, 100.55704082, 101.43938776, 102.32173469,\n",
       "        103.20408163, 104.08642857, 104.96877551, 105.85112245,\n",
       "        106.73346939, 107.61581633, 108.49816327, 109.3805102 ,\n",
       "        110.26285714, 111.14520408, 112.02755102, 112.90989796,\n",
       "        113.7922449 , 114.67459184, 115.55693878, 116.43928571,\n",
       "        117.32163265, 118.20397959, 119.08632653, 119.96867347,\n",
       "        120.85102041, 121.73336735, 122.61571429, 123.49806122,\n",
       "        124.38040816, 125.2627551 , 126.14510204, 127.02744898,\n",
       "        127.90979592, 128.79214286, 129.6744898 , 130.55683673,\n",
       "        131.43918367, 132.32153061, 133.20387755, 134.08622449,\n",
       "        134.96857143, 135.85091837, 136.73326531, 137.61561224,\n",
       "        138.49795918, 139.38030612, 140.26265306, 141.145     ,\n",
       "        142.02734694, 142.90969388, 143.79204082, 144.67438776,\n",
       "        145.55673469, 146.43908163, 147.32142857, 148.20377551,\n",
       "        149.08612245, 149.96846939, 150.85081633, 151.73316327,\n",
       "        152.6155102 , 153.49785714, 154.38020408, 155.26255102,\n",
       "        156.14489796, 157.0272449 , 157.90959184, 158.79193878,\n",
       "        159.67428571, 160.55663265, 161.43897959, 162.32132653,\n",
       "        163.20367347, 164.08602041, 164.96836735, 165.85071429,\n",
       "        166.73306122, 167.61540816, 168.4977551 , 169.38010204,\n",
       "        170.26244898, 171.14479592, 172.02714286, 172.9094898 ,\n",
       "        173.79183673]),\n",
       " [<matplotlib.patches.Polygon at 0x26f33aabf88>])"
      ]
     },
     "execution_count": 32,
     "metadata": {},
     "output_type": "execute_result"
    },
    {
     "data": {
      "image/png": "[encoded data removed]",
      "text/plain": [
       "<Figure size 432x288 with 1 Axes>"
      ]
     },
     "metadata": {
      "needs_background": "light"
     },
     "output_type": "display_data"
    }
   ],
   "source": [
    "plt.hist(d[10:51].reshape(-1), bins = 100, density = True, alpha = 0.7, histtype='step')"
   ]
  },
  {
   "cell_type": "code",
   "execution_count": 33,
   "id": "fe6f53a0",
   "metadata": {},
   "outputs": [
    {
     "data": {
      "image/png": "[encoded data removed]",
      "text/plain": [
       "<Figure size 1080x576 with 1 Axes>"
      ]
     },
     "metadata": {
      "needs_background": "light"
     },
     "output_type": "display_data"
    }
   ],
   "source": [
    "plt.figure(figsize = (15,8))\n",
    "plt.hist(s[10:51].reshape(-1), bins = 100, density = True, alpha = 0.7, histtype = 'step')\n",
    "plt.hist(d[10:51].reshape(-1), bins = 100, density = True, alpha = 1, histtype='step')\n",
    "plt.hist(k[10:51].reshape(-1), bins = 100, density = True, alpha = 0.9, histtype='step')\n",
    "plt.hist(n[10:51].reshape(-1), bins = 50, density = True, alpha = 0.5, histtype='stepfilled')\n",
    "plt.legend(labels = ['풍경', '백화점', '한옥', '전체'], loc = 'best', fontsize = 20)\n",
    "plt.title(\"평균 이미지 배열 히스토그램\", fontsize= 25)\n",
    "plt.show()"
   ]
  },
  {
   "cell_type": "code",
   "execution_count": null,
   "id": "167204be",
   "metadata": {},
   "outputs": [],
   "source": []
  },
  {
   "cell_type": "code",
   "execution_count": 34,
   "id": "333c777d",
   "metadata": {},
   "outputs": [
    {
     "data": {
      "image/png": "[encoded data removed]",
      "text/plain": [
       "<Figure size 432x288 with 1 Axes>"
      ]
     },
     "metadata": {
      "needs_background": "light"
     },
     "output_type": "display_data"
    }
   ],
   "source": [
    "contrast_mean = d - k\n",
    "plt.imshow(contrast_mean, cmap='bwr')\n",
    "plt.title(f'Difference Between 백화점 & 한옥')\n",
    "plt.axis('off')\n",
    "plt.show()"
   ]
  },
  {
   "cell_type": "code",
   "execution_count": 35,
   "id": "820c2554",
   "metadata": {},
   "outputs": [
    {
     "data": {
      "text/plain": [
       "array([-24.93710088, -26.53943651, -27.10899558, -26.82719732,\n",
       "       -26.70574412, -27.21136119, -27.88692493, -28.35155149,\n",
       "       -28.14060789, -28.39232213, -28.74796454, -28.25081269,\n",
       "       -28.47997016, -27.96196901, -27.40430649, -27.23461821,\n",
       "       -27.42177513, -27.76869678, -27.87765452, -27.60314153,\n",
       "       -26.96969042, -27.1127203 , -28.35886531, -28.07284622,\n",
       "       -28.2392138 , -27.86691722, -27.99671642, -29.05060496,\n",
       "       -28.28753739, -27.5825128 , -27.45148796, -26.94551327,\n",
       "       -27.37051702, -28.38818482, -28.56634545, -29.02446695,\n",
       "       -28.43774832, -28.78154985, -28.12255605, -28.14440899,\n",
       "       -28.50302375, -28.56708568, -29.25173209, -29.16870463,\n",
       "       -28.80034478, -27.96461229, -28.24154442, -28.57193967,\n",
       "       -28.72504729, -27.95650113, -27.3148946 , -27.43148454,\n",
       "       -27.6903527 , -27.4854102 , -26.5516964 , -26.37880592,\n",
       "       -25.51771777, -26.08871662, -25.80605249, -25.76727841,\n",
       "       -25.50830817, -26.22867422, -27.32678759, -26.05031944,\n",
       "       -26.01024334, -27.68775582, -28.00167463, -28.49119144,\n",
       "       -28.26552455, -28.60141551, -29.53963495, -30.13883047,\n",
       "       -30.0571607 , -28.74791457, -28.89512888, -28.71651569,\n",
       "       -28.87527964, -28.69108579, -28.51295087, -29.04719147,\n",
       "       -29.28029424, -29.96646608, -29.59820474, -29.20528299,\n",
       "       -28.38636315, -27.34157155, -27.08660371, -26.75865759,\n",
       "       -27.60956807, -27.28833544, -26.55494643, -25.05097829,\n",
       "       -25.0869699 , -25.53574605, -25.66516122, -26.7956771 ,\n",
       "       -27.44030237, -28.51110707, -28.5372979 , -28.66548957,\n",
       "       -29.34846064, -28.83493515, -29.48057905, -29.43048304,\n",
       "       -28.20970226, -28.7675668 , -29.60040973, -29.06721488,\n",
       "       -29.12802393, -29.39631382, -29.90325074, -30.09205588,\n",
       "       -30.17567652, -28.85332391, -28.31360401, -28.43523067,\n",
       "       -28.24280218, -28.93540413, -29.13599089, -28.65148582,\n",
       "       -28.67527179, -29.49265406, -29.09069962, -28.27003591,\n",
       "       -28.21606599, -27.70720746, -28.07579074, -28.34065072])"
      ]
     },
     "execution_count": 35,
     "metadata": {},
     "output_type": "execute_result"
    }
   ],
   "source": [
    "contrast_mean[60]"
   ]
  },
  {
   "cell_type": "code",
   "execution_count": 36,
   "id": "7eb0d70e",
   "metadata": {},
   "outputs": [
    {
     "data": {
      "text/plain": [
       "SGDClassifier(random_state=42)"
      ]
     },
     "execution_count": 36,
     "metadata": {},
     "output_type": "execute_result"
    }
   ],
   "source": [
    "from sklearn.linear_model import SGDClassifier\n",
    "\n",
    "sgd_clf = SGDClassifier(random_state=42)\n",
    "sgd_clf.fit(x, y)"
   ]
  },
  {
   "cell_type": "code",
   "execution_count": 38,
   "id": "316ebfc7",
   "metadata": {},
   "outputs": [
    {
     "data": {
      "text/plain": [
       "0.601193436101442"
      ]
     },
     "execution_count": 38,
     "metadata": {},
     "output_type": "execute_result"
    }
   ],
   "source": [
    "from sklearn.metrics import accuracy_score\n",
    "\n",
    "y_pred = sgd_clf.predict(x_test)\n",
    "accuracy_score(y_test, y_pred)"
   ]
  },
  {
   "cell_type": "code",
   "execution_count": 39,
   "id": "afc0fa7f",
   "metadata": {},
   "outputs": [
    {
     "data": {
      "text/plain": [
       "array([[569, 150,  98],\n",
       "       [117, 362,  85],\n",
       "       [148, 204, 278]], dtype=int64)"
      ]
     },
     "execution_count": 39,
     "metadata": {},
     "output_type": "execute_result"
    }
   ],
   "source": [
    "from sklearn.metrics import confusion_matrix\n",
    "confusion_matrix(y_test, y_pred)"
   ]
  },
  {
   "cell_type": "code",
   "execution_count": 40,
   "id": "a7b42223",
   "metadata": {},
   "outputs": [],
   "source": [
    "from sklearn.ensemble import RandomForestClassifier\n",
    "from sklearn.ensemble import VotingClassifier\n",
    "from sklearn.linear_model import LogisticRegression\n",
    "from sklearn.svm import SVC\n",
    "\n",
    "log_clf = LogisticRegression(solver=\"lbfgs\", random_state=42)\n",
    "rnd_clf = RandomForestClassifier(n_estimators=100, random_state=42)\n",
    "svm_clf = SVC(gamma=\"scale\", random_state=42)\n",
    "\n",
    "voting_clf = VotingClassifier(\n",
    "    estimators=[('lr', log_clf), ('rf', rnd_clf), ('svc', svm_clf)],\n",
    "    voting='hard')"
   ]
  },
  {
   "cell_type": "code",
   "execution_count": 43,
   "id": "89f95386",
   "metadata": {
    "scrolled": true
   },
   "outputs": [
    {
     "name": "stderr",
     "output_type": "stream",
     "text": [
      "C:\\Anaconda3\\envs\\envexample\\lib\\site-packages\\sklearn\\linear_model\\_logistic.py:765: ConvergenceWarning: lbfgs failed to converge (status=1):\n",
      "STOP: TOTAL NO. of ITERATIONS REACHED LIMIT.\n",
      "\n",
      "Increase the number of iterations (max_iter) or scale the data as shown in:\n",
      "    https://scikit-learn.org/stable/modules/preprocessing.html\n",
      "Please also refer to the documentation for alternative solver options:\n",
      "    https://scikit-learn.org/stable/modules/linear_model.html#logistic-regression\n",
      "  extra_warning_msg=_LOGISTIC_SOLVER_CONVERGENCE_MSG)\n"
     ]
    },
    {
     "data": {
      "text/plain": [
       "0.8135256091496768"
      ]
     },
     "execution_count": 43,
     "metadata": {},
     "output_type": "execute_result"
    }
   ],
   "source": [
    "voting_clf = VotingClassifier(\n",
    "    estimators=[('lr', log_clf), ('rf', rnd_clf), ('svc', svm_clf)],\n",
    "    voting='hard')    #soft로 하고 싶다면 svc의 하이퍼파라미터 probability=true로 바꿔줘야함\n",
    "voting_clf.fit(x, y)\n",
    "y_pred = voting_clf.predict(x_test)\n",
    "accuracy_score(y_test, y_pred)"
   ]
  },
  {
   "cell_type": "code",
   "execution_count": 44,
   "id": "ee7acf34",
   "metadata": {},
   "outputs": [
    {
     "name": "stderr",
     "output_type": "stream",
     "text": [
      "C:\\Anaconda3\\envs\\envexample\\lib\\site-packages\\sklearn\\linear_model\\_logistic.py:765: ConvergenceWarning: lbfgs failed to converge (status=1):\n",
      "STOP: TOTAL NO. of ITERATIONS REACHED LIMIT.\n",
      "\n",
      "Increase the number of iterations (max_iter) or scale the data as shown in:\n",
      "    https://scikit-learn.org/stable/modules/preprocessing.html\n",
      "Please also refer to the documentation for alternative solver options:\n",
      "    https://scikit-learn.org/stable/modules/linear_model.html#logistic-regression\n",
      "  extra_warning_msg=_LOGISTIC_SOLVER_CONVERGENCE_MSG)\n"
     ]
    },
    {
     "name": "stdout",
     "output_type": "stream",
     "text": [
      "LogisticRegression 0.6250621581302834\n",
      "RandomForestClassifier 0.8299353555445053\n",
      "SVC 0.8264545002486325\n"
     ]
    },
    {
     "name": "stderr",
     "output_type": "stream",
     "text": [
      "C:\\Anaconda3\\envs\\envexample\\lib\\site-packages\\sklearn\\linear_model\\_logistic.py:765: ConvergenceWarning: lbfgs failed to converge (status=1):\n",
      "STOP: TOTAL NO. of ITERATIONS REACHED LIMIT.\n",
      "\n",
      "Increase the number of iterations (max_iter) or scale the data as shown in:\n",
      "    https://scikit-learn.org/stable/modules/preprocessing.html\n",
      "Please also refer to the documentation for alternative solver options:\n",
      "    https://scikit-learn.org/stable/modules/linear_model.html#logistic-regression\n",
      "  extra_warning_msg=_LOGISTIC_SOLVER_CONVERGENCE_MSG)\n"
     ]
    },
    {
     "name": "stdout",
     "output_type": "stream",
     "text": [
      "VotingClassifier 0.8135256091496768\n"
     ]
    }
   ],
   "source": [
    "from sklearn.metrics import accuracy_score\n",
    "\n",
    "for clf in (log_clf, rnd_clf, svm_clf, voting_clf):\n",
    "    clf.fit(x, y)\n",
    "    y_pred = clf.predict(x_test)\n",
    "    print(clf.__class__.__name__, accuracy_score(y_test, y_pred))"
   ]
  },
  {
   "cell_type": "code",
   "execution_count": 45,
   "id": "47b5846a",
   "metadata": {},
   "outputs": [
    {
     "data": {
      "text/plain": [
       "array([[716,  65,  36],\n",
       "       [108, 418,  38],\n",
       "       [ 79,  49, 502]], dtype=int64)"
      ]
     },
     "execution_count": 45,
     "metadata": {},
     "output_type": "execute_result"
    }
   ],
   "source": [
    "y_pred = voting_clf.predict(x_test)\n",
    "confusion_matrix(y_test, y_pred)"
   ]
  },
  {
   "cell_type": "code",
   "execution_count": 46,
   "id": "400adf47",
   "metadata": {},
   "outputs": [
    {
     "data": {
      "text/plain": [
       "array([[716,  65,  36],\n",
       "       [108, 418,  38],\n",
       "       [ 79,  49, 502]], dtype=int64)"
      ]
     },
     "execution_count": 46,
     "metadata": {},
     "output_type": "execute_result"
    }
   ],
   "source": [
    "confusion_matrix(y_test, y_pred)"
   ]
  },
  {
   "cell_type": "code",
   "execution_count": 47,
   "id": "de013335",
   "metadata": {},
   "outputs": [
    {
     "data": {
      "text/plain": [
       "2011"
      ]
     },
     "execution_count": 47,
     "metadata": {},
     "output_type": "execute_result"
    }
   ],
   "source": [
    "len(y_test)"
   ]
  },
  {
   "cell_type": "markdown",
   "id": "7150ded9",
   "metadata": {},
   "source": [
    "### cross_validation"
   ]
  },
  {
   "cell_type": "code",
   "execution_count": 48,
   "id": "6020a890",
   "metadata": {},
   "outputs": [],
   "source": [
    "from sklearn.model_selection import cross_val_score\n",
    "scores = cross_val_score(rnd_clf, x, y, scoring = 'accuracy',cv=10)"
   ]
  },
  {
   "cell_type": "code",
   "execution_count": 49,
   "id": "0e8b6a24",
   "metadata": {},
   "outputs": [
    {
     "data": {
      "text/plain": [
       "array([0.81702128, 0.82765957, 0.8315565 , 0.86140725, 0.85074627,\n",
       "       0.85714286, 0.80810235, 0.79530917, 0.80597015, 0.82729211])"
      ]
     },
     "execution_count": 49,
     "metadata": {},
     "output_type": "execute_result"
    }
   ],
   "source": [
    "scores"
   ]
  },
  {
   "cell_type": "code",
   "execution_count": 51,
   "id": "770d3bb3",
   "metadata": {},
   "outputs": [
    {
     "data": {
      "text/plain": [
       "RandomizedSearchCV(cv=5, estimator=RandomForestClassifier(random_state=42),\n",
       "                   param_distributions={'max_features': <scipy.stats._distn_infrastructure.rv_frozen object at 0x0000026F33B99348>,\n",
       "                                        'n_estimators': <scipy.stats._distn_infrastructure.rv_frozen object at 0x0000026F33B09248>},\n",
       "                   random_state=42, scoring='accuracy')"
      ]
     },
     "execution_count": 51,
     "metadata": {},
     "output_type": "execute_result"
    }
   ],
   "source": [
    "from sklearn.model_selection import RandomizedSearchCV\n",
    "from scipy.stats import randint\n",
    "param_distribs = {\n",
    "    'n_estimators': randint(low=10, high=30),\n",
    "    'max_features': randint(low=1, high=20),\n",
    "}\n",
    "forest_reg = RandomForestClassifier(random_state=42)\n",
    "rnd_search = RandomizedSearchCV(forest_reg, param_distributions=param_distribs,\n",
    "                               n_iter=10, cv=5, scoring='accuracy', random_state=42)\n",
    "rnd_search.fit(x, y)"
   ]
  },
  {
   "cell_type": "code",
   "execution_count": 52,
   "id": "b399840e",
   "metadata": {},
   "outputs": [
    {
     "data": {
      "text/plain": [
       "{'mean_fit_time': array([0.83293586, 0.95678577, 0.56789379, 1.11782556, 0.57654519,\n",
       "        0.47831612, 0.39072099, 0.39957399, 0.35616703, 1.00099425]),\n",
       " 'std_fit_time': array([0.01443729, 0.01843271, 0.01395221, 0.02079075, 0.01165896,\n",
       "        0.01408196, 0.01504688, 0.01377854, 0.02047025, 0.01257303]),\n",
       " 'mean_score_time': array([0.04287405, 0.03299394, 0.03771224, 0.03686571, 0.03189549,\n",
       "        0.03125086, 0.04062314, 0.037291  , 0.04649887, 0.0494236 ]),\n",
       " 'std_score_time': array([8.44713668e-03, 3.48930393e-03, 5.89984752e-03, 5.73476698e-03,\n",
       "        7.88214024e-04, 1.23057250e-06, 7.65625187e-03, 8.05160666e-03,\n",
       "        7.62646643e-04, 4.95982232e-03]),\n",
       " 'param_max_features': masked_array(data=[7, 15, 8, 19, 11, 8, 2, 6, 1, 12],\n",
       "              mask=[False, False, False, False, False, False, False, False,\n",
       "                    False, False],\n",
       "        fill_value='?',\n",
       "             dtype=object),\n",
       " 'param_n_estimators': masked_array(data=[29, 20, 16, 20, 13, 12, 21, 11, 21, 26],\n",
       "              mask=[False, False, False, False, False, False, False, False,\n",
       "                    False, False],\n",
       "        fill_value='?',\n",
       "             dtype=object),\n",
       " 'params': [{'max_features': 7, 'n_estimators': 29},\n",
       "  {'max_features': 15, 'n_estimators': 20},\n",
       "  {'max_features': 8, 'n_estimators': 16},\n",
       "  {'max_features': 19, 'n_estimators': 20},\n",
       "  {'max_features': 11, 'n_estimators': 13},\n",
       "  {'max_features': 8, 'n_estimators': 12},\n",
       "  {'max_features': 2, 'n_estimators': 21},\n",
       "  {'max_features': 6, 'n_estimators': 11},\n",
       "  {'max_features': 1, 'n_estimators': 21},\n",
       "  {'max_features': 12, 'n_estimators': 26}],\n",
       " 'split0_test_score': array([0.8029819 , 0.77529286, 0.76038339, 0.79020234, 0.78168264,\n",
       "        0.73695421, 0.75931842, 0.76038339, 0.74440895, 0.78487753]),\n",
       " 'split1_test_score': array([0.82108626, 0.80191693, 0.79552716, 0.82108626, 0.80404686,\n",
       "        0.79020234, 0.78700745, 0.78168264, 0.76996805, 0.82428115]),\n",
       " 'split2_test_score': array([0.81343284, 0.80383795, 0.79637527, 0.81556503, 0.74733475,\n",
       "        0.76226013, 0.78464819, 0.74733475, 0.76652452, 0.81449893]),\n",
       " 'split3_test_score': array([0.78891258, 0.7761194 , 0.77078891, 0.78784648, 0.75692964,\n",
       "        0.76332623, 0.75906183, 0.73773987, 0.73880597, 0.80063966]),\n",
       " 'split4_test_score': array([0.79211087, 0.7803838 , 0.77398721, 0.7803838 , 0.77292111,\n",
       "        0.74520256, 0.75906183, 0.73667377, 0.74307036, 0.7793177 ]),\n",
       " 'mean_test_score': array([0.80370489, 0.78751019, 0.77941239, 0.79901678, 0.772583  ,\n",
       "        0.75958909, 0.76981955, 0.75276289, 0.75255557, 0.80072299]),\n",
       " 'std_test_score': array([0.01225154, 0.01268029, 0.01423604, 0.0161899 , 0.01977571,\n",
       "        0.01831711, 0.01309231, 0.01678356, 0.01299011, 0.01705307]),\n",
       " 'rank_test_score': array([ 1,  4,  5,  3,  6,  8,  7,  9, 10,  2])}"
      ]
     },
     "execution_count": 52,
     "metadata": {},
     "output_type": "execute_result"
    }
   ],
   "source": [
    "cvres = rnd_search.cv_results_\n",
    "cvres"
   ]
  },
  {
   "cell_type": "code",
   "execution_count": 53,
   "id": "d399f093",
   "metadata": {},
   "outputs": [
    {
     "data": {
      "text/plain": [
       "RandomForestClassifier(max_features=7, n_estimators=29, random_state=42)"
      ]
     },
     "execution_count": 53,
     "metadata": {},
     "output_type": "execute_result"
    }
   ],
   "source": [
    "rnd_search.best_estimator_"
   ]
  },
  {
   "cell_type": "code",
   "execution_count": 54,
   "id": "8114c10b",
   "metadata": {},
   "outputs": [
    {
     "data": {
      "text/plain": [
       "0.8105420188960716"
      ]
     },
     "execution_count": 54,
     "metadata": {},
     "output_type": "execute_result"
    }
   ],
   "source": [
    "final_model = rnd_search.best_estimator_\n",
    "\n",
    "y_pred = final_model.predict(x_test)\n",
    "accuracy_score(y_test, y_pred)\n",
    "\n"
   ]
  },
  {
   "cell_type": "markdown",
   "id": "39523f67",
   "metadata": {},
   "source": [
    "### 헷갈려하는 이미지 출력"
   ]
  },
  {
   "cell_type": "code",
   "execution_count": 55,
   "id": "59cd48fe",
   "metadata": {},
   "outputs": [],
   "source": [
    "y_pred = final_model.predict(x_test)\n",
    "conf_mx = confusion_matrix(y_test, y_pred)"
   ]
  },
  {
   "cell_type": "code",
   "execution_count": 56,
   "id": "feeb24f0",
   "metadata": {},
   "outputs": [
    {
     "data": {
      "text/plain": [
       "array([[725,  49,  43],\n",
       "       [118, 394,  52],\n",
       "       [ 69,  50, 511]], dtype=int64)"
      ]
     },
     "execution_count": 56,
     "metadata": {},
     "output_type": "execute_result"
    }
   ],
   "source": [
    "conf_mx"
   ]
  },
  {
   "cell_type": "code",
   "execution_count": 57,
   "id": "19bcfe2e",
   "metadata": {},
   "outputs": [
    {
     "data": {
      "text/plain": [
       "0.8124597015856171"
      ]
     },
     "execution_count": 57,
     "metadata": {},
     "output_type": "execute_result"
    }
   ],
   "source": [
    "from sklearn.metrics import precision_score, recall_score\n",
    "precision_score(y_test, y_pred, average='macro')"
   ]
  },
  {
   "cell_type": "code",
   "execution_count": 58,
   "id": "f5b0386d",
   "metadata": {},
   "outputs": [
    {
     "data": {
      "text/plain": [
       "0.7990285240838642"
      ]
     },
     "execution_count": 58,
     "metadata": {},
     "output_type": "execute_result"
    }
   ],
   "source": [
    "recall_score(y_test, y_pred, average='macro')"
   ]
  },
  {
   "cell_type": "code",
   "execution_count": 59,
   "id": "03fcc1f9",
   "metadata": {},
   "outputs": [
    {
     "data": {
      "text/plain": [
       "0.8036673466883242"
      ]
     },
     "execution_count": 59,
     "metadata": {},
     "output_type": "execute_result"
    }
   ],
   "source": [
    "from sklearn.metrics import f1_score\n",
    "f1_score(y_test, y_pred, average='macro')"
   ]
  },
  {
   "cell_type": "code",
   "execution_count": 60,
   "id": "82e81d96",
   "metadata": {},
   "outputs": [
    {
     "data": {
      "image/png": "[encoded data removed]",
      "text/plain": [
       "<Figure size 288x288 with 1 Axes>"
      ]
     },
     "metadata": {
      "needs_background": "light"
     },
     "output_type": "display_data"
    }
   ],
   "source": [
    "def plot_confusion_matrix(matrix):\n",
    "    fig = plt.figure(figsize=(8,8))\n",
    "    ax = fig.add_subplot(111)\n",
    "    cax = ax.matshow(matrix)\n",
    "    fig.colorbar(cax)\n",
    "    \n",
    "plt.matshow(conf_mx, cmap = plt.cm.Blues)\n",
    "plt.show()"
   ]
  },
  {
   "cell_type": "markdown",
   "id": "4af49c97",
   "metadata": {},
   "source": [
    "### 오차행렬을 색으로 표현할 때 오차만 보기"
   ]
  },
  {
   "cell_type": "code",
   "execution_count": 61,
   "id": "0f0cc8ce",
   "metadata": {},
   "outputs": [
    {
     "data": {
      "image/png": "[encoded data removed]",
      "text/plain": [
       "<Figure size 288x288 with 1 Axes>"
      ]
     },
     "metadata": {
      "needs_background": "light"
     },
     "output_type": "display_data"
    }
   ],
   "source": [
    "row_sums = conf_mx.sum(axis=1, keepdims=True)\n",
    "norm_conf_mx = conf_mx/row_sums\n",
    "\n",
    "np.fill_diagonal(norm_conf_mx, 0)\n",
    "plt.matshow(norm_conf_mx, cmap = plt.cm.Blues)\n",
    "plt.show()"
   ]
  },
  {
   "cell_type": "markdown",
   "id": "fe7e8ce8",
   "metadata": {},
   "source": [
    "### 헷갈리는 이미지"
   ]
  },
  {
   "cell_type": "code",
   "execution_count": 62,
   "id": "78ebedc3",
   "metadata": {},
   "outputs": [],
   "source": [
    "cl_a, cl_b = 2, 1\n",
    "X_aa = x_test[(y_test==cl_a) & (y_pred == cl_a)]\n",
    "X_ab = x_test[(y_test==cl_a) & (y_pred == cl_b)]\n",
    "X_ba = x_test[(y_test==cl_b) & (y_pred == cl_a)]\n",
    "X_bb = x_test[(y_test==cl_b) & (y_pred == cl_b)]"
   ]
  },
  {
   "cell_type": "code",
   "execution_count": 63,
   "id": "493000c9",
   "metadata": {},
   "outputs": [
    {
     "data": {
      "text/plain": [
       "array([[ 36.,  36.,  36., ...,  77.,  74.,  85.],\n",
       "       [216., 215., 202., ..., 128., 128., 127.],\n",
       "       [206., 205., 204., ...,  44.,  52.,  53.],\n",
       "       ...,\n",
       "       [ 48.,  50.,  54., ..., 144., 143., 144.],\n",
       "       [195., 194., 193., ...,  62.,  65.,  64.],\n",
       "       [225., 223., 230., ...,  95.,  95.,  95.]])"
      ]
     },
     "execution_count": 63,
     "metadata": {},
     "output_type": "execute_result"
    }
   ],
   "source": [
    "x[(y==cl_a) & (y == cl_a)]"
   ]
  },
  {
   "cell_type": "code",
   "execution_count": 64,
   "id": "fff3999e",
   "metadata": {},
   "outputs": [],
   "source": [
    "#숫자를 한번에 출력하는 함수 instances : 출력할 데이터, images_per_row : 한 행에 출력할 데이터 갯수\n",
    "def plot_digits(instances, images_per_row=10, **options):\n",
    "    #size = 28    #이미지 크기 설정\n",
    "    \n",
    "    #한 행에 출력하는 갯수보다 이미지의 갯수가 작을 시 이미지 갯수로 초기화\n",
    "    images_per_row = min(len(instances), images_per_row) \n",
    "    \n",
    "    #각 인스턴스, 각 이미지 데이터를 이미지 형태로 변환하여 리스트로 재 저장\n",
    "    images = [instance.reshape(9*8,16*8) for instance in instances]\n",
    "    #전체 이미지를 images_per_row에 따라 몇개의 row로 그릴지 파악\n",
    "    print(instances.shape)\n",
    "    n_rows = (len(instances)-1) //images_per_row + 1\n",
    "    print(n_rows)\n",
    "    \n",
    "    #배열을 images_per_row 갯수씩 n_rows의 수 만큼 담을 배열\n",
    "    row_images= []\n",
    "    \n",
    "    #행x열 이미지를 담을 그릇에서 실제로 이미지가 담기지 않는 부분 파악\n",
    "    n_empty = n_rows * images_per_row - len(instances)\n",
    "    \n",
    "    #그릇의 크기에서 마지막 남는 부분의 픽셀 크기만큼 0으로 채움\n",
    "    images.append(np.zeros((9*8, 16*8 * n_empty)))\n",
    "    \n",
    "    #images에서 10개씩 ndarray를 추출하여 리스트에 하나씩 담는다 \n",
    "    for row in range(n_rows):\n",
    "        rimages = images[row * images_per_row : (row + 1) * images_per_row]\n",
    "        row_images.append(np.concatenate(rimages, axis = 1))\n",
    "    print(type(row_images))\n",
    "    \n",
    "    #리스트의 배열요소들을 하나씩 위아래를 기준으로 아래로 하나씩 붙여 ndarray로 만든다\n",
    "    image = np.concatenate(row_images, axis=0)\n",
    "    print(type(image))\n",
    "    \n",
    "    #이미지 출력\n",
    "    plt.imshow(image, cmap = mpl.cm.binary, **options)\n",
    "    \n",
    "    #축을 없앤다 \n",
    "    plt.axis('off')"
   ]
  },
  {
   "cell_type": "code",
   "execution_count": 67,
   "id": "84a88b07",
   "metadata": {
    "scrolled": true
   },
   "outputs": [
    {
     "name": "stdout",
     "output_type": "stream",
     "text": [
      "(25, 9216)\n",
      "5\n",
      "<class 'list'>\n",
      "<class 'numpy.ndarray'>\n",
      "(25, 9216)\n",
      "5\n",
      "<class 'list'>\n",
      "<class 'numpy.ndarray'>\n",
      "(25, 9216)\n",
      "5\n",
      "<class 'list'>\n",
      "<class 'numpy.ndarray'>\n",
      "(25, 9216)\n",
      "5\n",
      "<class 'list'>\n",
      "<class 'numpy.ndarray'>\n"
     ]
    },
    {
     "data": {
      "image/png": "[encoded data removed]",
      "text/plain": [
       "<Figure size 576x576 with 4 Axes>"
      ]
     },
     "metadata": {
      "needs_background": "light"
     },
     "output_type": "display_data"
    }
   ],
   "source": [
    "import matplotlib as mpl\n",
    "plt.figure(figsize=(8,8))\n",
    "plt.subplot(221); plot_digits(X_aa[:25], images_per_row=5)\n",
    "plt.subplot(222); plot_digits(X_ab[:25], images_per_row=5)\n",
    "plt.subplot(223); plot_digits(X_ba[:25], images_per_row=5)\n",
    "plt.subplot(224); plot_digits(X_bb[:25], images_per_row=5)\n",
    "#save_fig(\"error_analysis_digits_plot\")\n",
    "plt.show()\n"
   ]
  },
  {
   "cell_type": "code",
   "execution_count": 68,
   "id": "b894d01b",
   "metadata": {},
   "outputs": [],
   "source": [
    "%matplotlib inline\n",
    "import matplotlib as mpl\n",
    "import matplotlib.pyplot as plt\n",
    "mpl.rc('axes', labelsize=14)\n",
    "mpl.rc('xtick', labelsize=12)\n",
    "mpl.rc('ytick', labelsize=12)"
   ]
  },
  {
   "cell_type": "code",
   "execution_count": 69,
   "id": "6f4aba08",
   "metadata": {},
   "outputs": [],
   "source": [
    "PROJECT_ROOT_DIR = \".\"\n",
    "CHAPTER_ID = \"ensembles\"\n",
    "IMAGES_PATH = os.path.join(PROJECT_ROOT_DIR, \"images\", CHAPTER_ID)\n",
    "os.makedirs(IMAGES_PATH, exist_ok=True)\n",
    "\n",
    "def save_fig(fig_id, tight_layout=True, fig_extension=\"png\", resolution=300):\n",
    "    path = os.path.join(IMAGES_PATH, fig_id + \".\" + fig_extension)\n",
    "    print(\"Saving figure\", fig_id)\n",
    "    if tight_layout:\n",
    "        plt.tight_layout()\n",
    "    plt.savefig(path, format=fig_extension, dpi=resolution)"
   ]
  },
  {
   "cell_type": "code",
   "execution_count": 70,
   "id": "be3fc0f6",
   "metadata": {},
   "outputs": [],
   "source": [
    "def plot_digit(data):\n",
    "    image = data.reshape(16*8, 9*8)\n",
    "    plt.imshow(image, cmap = mpl.cm.hot,\n",
    "               interpolation=\"nearest\")\n",
    "    plt.axis(\"off\")"
   ]
  },
  {
   "cell_type": "code",
   "execution_count": null,
   "id": "3e25a3d2",
   "metadata": {},
   "outputs": [],
   "source": []
  },
  {
   "cell_type": "code",
   "execution_count": 71,
   "id": "dfd75345",
   "metadata": {},
   "outputs": [
    {
     "name": "stdout",
     "output_type": "stream",
     "text": [
      "Saving figure landmark_feature_importance_plot\n"
     ]
    },
    {
     "data": {
      "image/png": "[encoded data removed]",
      "text/plain": [
       "<Figure size 432x288 with 2 Axes>"
      ]
     },
     "metadata": {
      "needs_background": "light"
     },
     "output_type": "display_data"
    },
    {
     "data": {
      "text/plain": [
       "<Figure size 1800x1440 with 0 Axes>"
      ]
     },
     "metadata": {},
     "output_type": "display_data"
    }
   ],
   "source": [
    "plot_digit(final_model.feature_importances_)\n",
    "\n",
    "cbar = plt.colorbar(ticks=[final_model.feature_importances_.min(), final_model.feature_importances_.max()])\n",
    "cbar.ax.set_yticklabels(['Not important', 'Very important'])\n",
    "\n",
    "save_fig(\"landmark_feature_importance_plot\")\n",
    "plt.figure(figsize=(25,20))\n",
    "plt.show()"
   ]
  },
  {
   "cell_type": "markdown",
   "id": "1fbabfcf",
   "metadata": {},
   "source": [
    "### gradient descent"
   ]
  },
  {
   "cell_type": "code",
   "execution_count": 83,
   "id": "e62ce69b",
   "metadata": {},
   "outputs": [],
   "source": [
    "#계단함수\n",
    "def step_function(x):\n",
    "    return np.array(x > 0, dtype=np.int)\n",
    "#시그모이드 함수\n",
    "def sigmoid(x):\n",
    "    print('시그모이드')\n",
    "    return 1 / (1 + np.exp(-x))\n",
    "#렐류함수\n",
    "def relu(x):\n",
    "    return np.maximum(0,x)\n",
    "#시그모이드 함수 미분\n",
    "def sigmoid_grad(x):\n",
    "    print(type(sigmoid(x)))\n",
    "    print((1.0 - sigmoid(x)).shape)\n",
    "    print(((1.0 - sigmoid(x)) * sigmoid(x)).shape)\n",
    "    return (1.0 - sigmoid(x)) * sigmoid(x)\n",
    "#렐류 함수 미분\n",
    "def relu_grad(x):\n",
    "    grad = np.zeros(x)\n",
    "    grad[x>0] = 1\n",
    "    return grad\n",
    "#출력 함수 소프트맥스\n",
    "def softmax(x):\n",
    "    if x.ndim ==2:\n",
    "        x = x.T\n",
    "        x = x - np.max(x, axis=0)\n",
    "        y = np.exp(x) / np.sum(np.exp(x), axis=0)\n",
    "        return y.T\n",
    "    x = x - np.max(x)\n",
    "    return np.exp(x) - np.sum(np.exp(x))\n",
    "#mse 평균절대오차 함수\n",
    "def mean_squared_error(y, t):\n",
    "    return 0.5 * np.sum((y-t)**2)\n",
    "#크로스엔트로피 함수\n",
    "def cross_entropy_error(y,t):\n",
    "    if y.ndim ==  1:\n",
    "        t = t.reshape(1, t.size)\n",
    "        y = y.reshape(1, y.size)\n",
    "    if t.size == y.size:\n",
    "        t = t.argmax(axis=1)\n",
    "    batch_size = y.shape[0]\n",
    "    return -np.sum(np.log(y[np.arange(batch_size), t] + 1e-7)) / batch_size\n",
    "#소프트맥스 y 값 손실 함수\n",
    "def softmax_loss(X, t):\n",
    "    y = softmax(X)\n",
    "    return cross_entropy_error(y, t)\n",
    "#경사 하강법\n",
    "def numerical_gradient(f, x):\n",
    "    h = 1e-4\n",
    "    #가중치 x의 크기만큼 메모리 할당\n",
    "    grad = np.zeros_like(x)\n",
    "    #2차원 배열 x의 요소 하나씩 접근\n",
    "    it = np.nditer(x, flags=['multi_index'], op_flags=['readwrite'])\n",
    "    #모든 x 요소에 대하여 미분\n",
    "    while not it.finished:\n",
    "        idx = it.multi_index\n",
    "        tmp_val = x[idx]\n",
    "        x[idx] = float(tmp_val) + h\n",
    "        fxh1 = f(x)\n",
    "        x[idx] = tmp_val - h\n",
    "        fxh2 = f(x)\n",
    "        grad[idx] = (fxh1 - fxh2) / (2*h)\n",
    "        x[idx] = tmp_val\n",
    "        #다음 요소로\n",
    "        it.iternext()\n",
    "        \n",
    "    return grad"
   ]
  },
  {
   "cell_type": "code",
   "execution_count": 114,
   "id": "29e2319c",
   "metadata": {},
   "outputs": [],
   "source": [
    "class TwoLayerNet:\n",
    "    #초기화 함수\n",
    "    def __init__(self, input_size, hidden_size, output_size, weight_init_std=0.01):\n",
    "        self.params = {}\n",
    "        #입력층 x 히든레이어 층 수만큼 가중치 생성\n",
    "        self.params['W1'] = weight_init_std * np.random.randn(input_size, hidden_size)\n",
    "        #은닉노드 수만큼 bias 생성\n",
    "        self.params['b1'] = np.zeros(hidden_size)\n",
    "        #은닉노드수 x 출력층 가중치 생성\n",
    "        self.params['W2'] = weight_init_std * np.random.randn(hidden_size, output_size)\n",
    "        #출력층 만큼 bias 0으로 생성\n",
    "        self.params['b2'] = np.zeros(output_size)\n",
    "        self.count = 0\n",
    "    \n",
    "    #가중치 연산을 통해 y값 예측\n",
    "    def predict(self, x):\n",
    "        W1, W2 = self.params['W1'], self.params['W2']\n",
    "        b1, b2 = self.params['b1'], self.params['b2']\n",
    "        \n",
    "        #입력층과 연산층 가중치, 입력값 행렬곱\n",
    "        a1 = np.dot(x, W1) + b1\n",
    "        #시그모이드 함수 적용해서 은닉층에 전달\n",
    "        z1 = sigmoid(a1)\n",
    "        #은닉층과 출력층 출력값, 가중치 행렬곱\n",
    "        a2 = np.dot(z1, W2) + b2\n",
    "        #소프트맥스 함수 적용 후 출력층 전달\n",
    "        y = softmax(a2)\n",
    "        #값 리턴\n",
    "        return y\n",
    "    \n",
    "    #손실함수 계산\n",
    "    def loss(self, x, t):\n",
    "        y = self.predict(x)\n",
    "        #크로스 엔트로피 손실함수 리턴\n",
    "        return cross_entropy_error(y, t)\n",
    "    #분류 정확도 측정\n",
    "    def accuracy(self, x, t):\n",
    "        y = self.predict(x)\n",
    "        y = np.argmax(y, axis = 1)\n",
    "        t = np.argmax(t, axis = 1)\n",
    "        #y와 t가 일치하는 행의 수 / 입력값의 행의 길이 계산 후 리턴\n",
    "        accuracy = np.sum(y == t) / float(x.shape[0])\n",
    "        return accuracy\n",
    "    \n",
    "    #경사 하강법\n",
    "    def numerical_gradient(self, x, t):\n",
    "        loss_W = lambda W: self.loss(x,t)\n",
    "        #손실함수 값 loss_W을 이용하여 경사하강법 적용하여 손실함수 최소가 되는 값 탐색\n",
    "        grads ={}\n",
    "        grads['W1'] = numerical_gradient(loss_W, self.params['W1'])\n",
    "        grads['b1'] = numerical_gradient(loss_W, self.params['b1'])\n",
    "        grads['W2'] = numerical_gradient(loss_W, self.params['W2'])\n",
    "        grads['b2'] = numerical_gradient(loss_W, self.params['b2'])\n",
    "        \n",
    "        return grads\n",
    "    \n",
    "    \n",
    "    def gradient(self, x, t):\n",
    "        W1, W2 = self.params['W1'], self.params['W2']\n",
    "        b1, b2 = self.params['b1'], self.params['b2']\n",
    "        grads = {}\n",
    "        \n",
    "        batch_num = x.shape[0]\n",
    "        #입력받은 가중치, 입력값, 편향을 사용하여 출력 값 계산\n",
    "        #forward\n",
    "        a1 = np.dot(x, W1) + b1\n",
    "        z1 = sigmoid(a1)\n",
    "        a2 = np.dot(z1, W2) + b2\n",
    "        y = softmax(a2)\n",
    "        \n",
    "        #두번째 층 가중치 및 편향 계산\n",
    "        #backward\n",
    "        print(batch_num)\n",
    "        print(\"y:\", y)\n",
    "        print(\"t:\", t)\n",
    "        print(y - t)\n",
    "        dy = (y - t) / batch_num\n",
    "        grads['W2'] = np.dot(z1.T, dy)\n",
    "        grads['b2'] = np.sum(dy, axis=0)\n",
    "        print(\"백워드 기울기 계산\")        \n",
    "        dz1 = np.dot(dy, W2.T)\n",
    "        print(\"size of dz1: \", dz1.shape)\n",
    "        da1 = sigmoid_grad(a1) * np.asarray(dz1,dtype = 'float32')\n",
    "        \n",
    "        grads['W1'] = np.dot(x.T, da1)\n",
    "        grads['b1'] = np.sum(da1,axis=0)\n",
    "        \n",
    "        return grads"
   ]
  },
  {
   "cell_type": "code",
   "execution_count": 115,
   "id": "4c499c4c",
   "metadata": {},
   "outputs": [
    {
     "data": {
      "text/plain": [
       "array([[ 2,  4, 10],\n",
       "       [ 2,  4,  9]])"
      ]
     },
     "execution_count": 115,
     "metadata": {},
     "output_type": "execute_result"
    }
   ],
   "source": [
    "np.array([[1,1,2],[2,2,3]]) * np.array([[2,4,5],[1,2,3]])"
   ]
  },
  {
   "cell_type": "code",
   "execution_count": 116,
   "id": "3f9fc22b",
   "metadata": {},
   "outputs": [],
   "source": [
    "network = TwoLayerNet(input_size = 16*8*9*8, hidden_size=1000, output_size = 3)"
   ]
  },
  {
   "cell_type": "code",
   "execution_count": 117,
   "id": "5837827b",
   "metadata": {},
   "outputs": [
    {
     "name": "stdout",
     "output_type": "stream",
     "text": [
      "원-핫 인코딩 데이터\n",
      "[[0. 0. 1.]\n",
      " [0. 0. 1.]\n",
      " [1. 0. 0.]\n",
      " ...\n",
      " [1. 0. 0.]\n",
      " [1. 0. 0.]\n",
      " [0. 1. 0.]]\n",
      "원-핫 인코딩 데이터 차원\n",
      "(4692, 3)\n"
     ]
    }
   ],
   "source": [
    "from sklearn.preprocessing import OneHotEncoder\n",
    "from sklearn.preprocessing import LabelEncoder\n",
    "import numpy as np\n",
    "\n",
    "# 먼저 숫자값으로 변환을 위해 LabelEncoder로 변환합니다. \n",
    "encoder = LabelEncoder()\n",
    "encoder.fit(y)\n",
    "labels = encoder.transform(y)\n",
    "# 2차원 데이터로 변환합니다. \n",
    "labels = labels.reshape(-1,1)\n",
    "# 원-핫 인코딩을 적용합니다. \n",
    "oh_encoder = OneHotEncoder()\n",
    "oh_encoder.fit(labels)\n",
    "oh_labels = oh_encoder.transform(labels)\n",
    "print('원-핫 인코딩 데이터')\n",
    "print(oh_labels.toarray())\n",
    "print('원-핫 인코딩 데이터 차원')\n",
    "print(oh_labels.shape)"
   ]
  },
  {
   "cell_type": "code",
   "execution_count": 118,
   "id": "9cf7b980",
   "metadata": {},
   "outputs": [
    {
     "data": {
      "text/plain": [
       "(4692, 9216)"
      ]
     },
     "execution_count": 118,
     "metadata": {},
     "output_type": "execute_result"
    }
   ],
   "source": [
    "x.shape"
   ]
  },
  {
   "cell_type": "code",
   "execution_count": 119,
   "id": "4c852f9a",
   "metadata": {
    "scrolled": true
   },
   "outputs": [
    {
     "name": "stdout",
     "output_type": "stream",
     "text": [
      "시그모이드\n",
      "4692\n",
      "y: [[0.34506314 0.31287037 0.34206649]\n",
      " [0.31015983 0.34193346 0.34790671]\n",
      " [0.30706129 0.30906232 0.38387639]\n",
      " ...\n",
      " [0.28512562 0.34078657 0.37408781]\n",
      " [0.29812259 0.29266273 0.40921468]\n",
      " [0.36360001 0.28936983 0.34703017]]\n",
      "t:   (0, 2)\t1.0\n",
      "  (1, 2)\t1.0\n",
      "  (2, 0)\t1.0\n",
      "  (3, 0)\t1.0\n",
      "  (4, 0)\t1.0\n",
      "  (5, 2)\t1.0\n",
      "  (6, 1)\t1.0\n",
      "  (7, 1)\t1.0\n",
      "  (8, 0)\t1.0\n",
      "  (9, 2)\t1.0\n",
      "  (10, 2)\t1.0\n",
      "  (11, 1)\t1.0\n",
      "  (12, 0)\t1.0\n",
      "  (13, 0)\t1.0\n",
      "  (14, 0)\t1.0\n",
      "  (15, 1)\t1.0\n",
      "  (16, 2)\t1.0\n",
      "  (17, 1)\t1.0\n",
      "  (18, 0)\t1.0\n",
      "  (19, 2)\t1.0\n",
      "  (20, 0)\t1.0\n",
      "  (21, 1)\t1.0\n",
      "  (22, 0)\t1.0\n",
      "  (23, 2)\t1.0\n",
      "  (24, 0)\t1.0\n",
      "  :\t:\n",
      "  (4667, 1)\t1.0\n",
      "  (4668, 2)\t1.0\n",
      "  (4669, 2)\t1.0\n",
      "  (4670, 0)\t1.0\n",
      "  (4671, 2)\t1.0\n",
      "  (4672, 0)\t1.0\n",
      "  (4673, 0)\t1.0\n",
      "  (4674, 1)\t1.0\n",
      "  (4675, 2)\t1.0\n",
      "  (4676, 0)\t1.0\n",
      "  (4677, 0)\t1.0\n",
      "  (4678, 1)\t1.0\n",
      "  (4679, 0)\t1.0\n",
      "  (4680, 0)\t1.0\n",
      "  (4681, 0)\t1.0\n",
      "  (4682, 2)\t1.0\n",
      "  (4683, 2)\t1.0\n",
      "  (4684, 1)\t1.0\n",
      "  (4685, 0)\t1.0\n",
      "  (4686, 0)\t1.0\n",
      "  (4687, 1)\t1.0\n",
      "  (4688, 1)\t1.0\n",
      "  (4689, 0)\t1.0\n",
      "  (4690, 0)\t1.0\n",
      "  (4691, 1)\t1.0\n",
      "[[ 0.34506314  0.31287037 -0.65793351]\n",
      " [ 0.31015983  0.34193346 -0.65209329]\n",
      " [-0.69293871  0.30906232  0.38387639]\n",
      " ...\n",
      " [-0.71487438  0.34078657  0.37408781]\n",
      " [-0.70187741  0.29266273  0.40921468]\n",
      " [ 0.36360001 -0.71063017  0.34703017]]\n",
      "백워드 기울기 계산\n",
      "size of dz1:  (4692, 1000)\n",
      "시그모이드\n",
      "<class 'numpy.ndarray'>\n",
      "시그모이드\n",
      "(4692, 1000)\n",
      "시그모이드\n",
      "시그모이드\n",
      "(4692, 1000)\n",
      "시그모이드\n",
      "시그모이드\n"
     ]
    }
   ],
   "source": [
    "grad_backprop = network.gradient(x, oh_labels)"
   ]
  },
  {
   "cell_type": "code",
   "execution_count": 120,
   "id": "da3ed928",
   "metadata": {},
   "outputs": [
    {
     "data": {
      "text/plain": [
       "{'W2': matrix([[-8.70725033e-02,  3.45011230e-02,  5.25713803e-02],\n",
       "         [-6.67774845e-02,  2.94309824e-02,  3.73465021e-02],\n",
       "         [-7.47697375e-04,  7.76249694e-04, -2.85523192e-05],\n",
       "         ...,\n",
       "         [-6.55211138e-02,  2.37288457e-02,  4.17922681e-02],\n",
       "         [-8.12622956e-02,  3.08157739e-02,  5.04465217e-02],\n",
       "         [-7.54809019e-02,  2.94814626e-02,  4.59994392e-02]]),\n",
       " 'b2': matrix([[-0.08707154,  0.03450218,  0.05256937]]),\n",
       " 'W1': array([[ 2.22450083e-07,  8.26694244e-04, -3.78648537e-05, ...,\n",
       "          2.19341990e-03,  1.71884553e-03, -4.61653802e-04],\n",
       "        [ 1.77960081e-07,  8.39215714e-04, -4.34817008e-05, ...,\n",
       "          2.12386603e-03,  1.69498904e-03, -4.86828462e-04],\n",
       "        [ 1.77960090e-07,  8.56021414e-04, -4.00325384e-05, ...,\n",
       "          2.16671715e-03,  1.74359698e-03, -4.67043490e-04],\n",
       "        ...,\n",
       "        [ 2.09103052e-06,  7.78011900e-04, -3.23117106e-05, ...,\n",
       "          1.63727208e-03,  8.38496523e-04, -3.65463892e-04],\n",
       "        [ 6.67350196e-07,  8.18596985e-04, -2.84615693e-05, ...,\n",
       "          1.55496924e-03,  8.30100396e-04, -3.64379685e-04],\n",
       "        [ 8.89800246e-07,  8.03155445e-04, -1.94905716e-05, ...,\n",
       "          1.52522239e-03,  8.55979284e-04, -3.89129638e-04]]),\n",
       " 'b1': array([ 4.44900109e-08,  4.11146175e-06, -5.88853250e-07, -1.87751048e-05,\n",
       "         1.83853798e-06, -9.68900528e-07, -8.38368651e-06,  1.34865057e-06,\n",
       "        -1.75025869e-05, -1.28262900e-05,  3.43234659e-06,  3.93594241e-06,\n",
       "        -1.45180617e-07,  3.95551516e-06, -1.30041517e-06,  7.04578497e-08,\n",
       "        -2.69805093e-07,  2.54303919e-08,  2.07696058e-06,  0.00000000e+00,\n",
       "         1.43378468e-06,  8.40747381e-06, -3.27963278e-06, -3.49280516e-06,\n",
       "        -1.65251962e-05,  5.19768174e-07,  7.46935344e-07, -7.04432910e-06,\n",
       "         1.70732891e-05, -6.65140031e-07, -3.97437431e-06,  5.88478765e-08,\n",
       "         9.94829326e-07,  7.82696260e-07,  2.07717121e-06,  2.56486573e-07,\n",
       "        -5.58255575e-07,  8.83875340e-07,  1.31285831e-06, -2.35310062e-07,\n",
       "        -8.81638958e-06, -2.51773509e-07,  8.82156911e-08,  1.37785258e-06,\n",
       "         0.00000000e+00,  9.74839272e-06,  2.49114933e-06, -3.56369779e-07,\n",
       "        -1.15982808e-06, -4.53927501e-06, -8.86736942e-07,  1.00247333e-05,\n",
       "        -5.67452007e-06,  1.17333630e-05, -2.32043882e-07, -3.26472285e-07,\n",
       "         5.82884681e-06, -4.62601096e-06, -9.85971357e-08,  1.55272920e-07,\n",
       "         4.34220690e-07,  6.59948621e-07, -4.72093237e-07, -1.60777807e-06,\n",
       "        -7.45279712e-06,  3.41405783e-07, -8.96257632e-06,  1.90712788e-06,\n",
       "         9.05478884e-07,  1.37260760e-06, -4.95632974e-11,  2.01731774e-05,\n",
       "        -2.78163284e-07, -4.30130307e-06, -8.99007514e-07, -9.00176209e-06,\n",
       "        -1.72603509e-06,  7.75918576e-08,  5.59958716e-06,  1.02979912e-06,\n",
       "        -7.87022900e-07,  9.22787673e-09, -5.55566581e-07, -2.67109758e-07,\n",
       "         4.75664519e-06,  1.02770326e-06, -3.08036890e-06, -1.82084924e-05,\n",
       "        -7.92755751e-07,  1.01558094e-06, -6.74975335e-10,  4.73685804e-06,\n",
       "        -3.18092589e-08, -2.97179313e-06, -2.14753100e-06,  4.10938717e-06,\n",
       "         1.01971882e-06, -4.26061121e-06, -1.02403922e-07, -2.66578014e-06,\n",
       "         9.19840620e-06, -1.40060108e-11,  1.62124168e-06,  2.31304521e-06,\n",
       "        -1.53573904e-06, -8.63760267e-06, -9.45466174e-06, -2.82489815e-06,\n",
       "         2.01413737e-05,  4.56317336e-08,  6.56916566e-06,  6.74372605e-06,\n",
       "         3.79457477e-06,  1.96769371e-06, -4.83411492e-07, -3.84515095e-06,\n",
       "        -4.92054001e-06,  7.38742781e-06,  1.74970667e-06,  9.63632771e-07,\n",
       "        -1.85106556e-10, -8.41043252e-06,  1.50210928e-05, -4.23467182e-06,\n",
       "         0.00000000e+00,  1.06228927e-06, -1.37241536e-06, -6.03647086e-06,\n",
       "        -9.36512721e-07, -1.30699675e-05,  6.23694515e-06, -6.81716918e-06,\n",
       "        -3.04867507e-07,  1.58777912e-07, -5.70775441e-50, -6.54017594e-06,\n",
       "        -8.61611343e-07,  1.54170627e-06, -2.49623683e-06, -3.88300864e-06,\n",
       "         3.94957547e-06, -3.54404094e-07,  2.53890606e-07, -1.25372863e-05,\n",
       "         4.20711075e-07,  1.94273314e-07, -1.26133141e-06,  3.83152048e-06,\n",
       "        -8.63744974e-07,  1.92003385e-06, -6.69484544e-06,  5.15901392e-06,\n",
       "        -3.44657797e-06, -3.11782654e-06, -9.07817221e-08,  1.96848841e-05,\n",
       "        -2.38496386e-06,  1.21093591e-05, -4.14745393e-07,  1.57979623e-06,\n",
       "        -9.68072867e-06, -2.56692980e-07,  2.63552352e-07,  8.83518440e-07,\n",
       "        -2.10354302e-07,  4.59134993e-06, -4.02421490e-06,  1.05571265e-06,\n",
       "         6.18832779e-06,  7.22835048e-06,  7.28515477e-07,  5.39994789e-06,\n",
       "        -6.57094279e-07, -2.97466557e-05,  1.10858646e-06, -7.51526424e-07,\n",
       "         1.21983359e-06, -1.59760222e-10,  1.52682476e-05,  4.17972125e-06,\n",
       "        -2.31342160e-06, -9.28107726e-08, -1.08186809e-05, -7.90057434e-06,\n",
       "         5.61442962e-06,  8.76497558e-06,  1.98474655e-07,  3.27881883e-07,\n",
       "         1.04791683e-05, -1.08474271e-05,  3.63574443e-09, -4.63049695e-06,\n",
       "         6.89223469e-06,  1.19456316e-05,  5.81342966e-06, -6.64786708e-11,\n",
       "        -2.11551162e-07,  1.67395927e-06,  1.43460435e-06, -1.19530338e-08,\n",
       "         1.12887444e-06, -8.76637201e-07, -1.38248558e-05, -2.57129737e-06,\n",
       "         0.00000000e+00,  6.02600907e-07, -7.90752419e-07,  4.17812325e-07,\n",
       "         2.14963116e-08, -6.93422510e-08,  8.94970670e-08, -6.15692414e-07,\n",
       "        -1.40641104e-05, -4.66594385e-07,  7.82750706e-06, -4.65797397e-07,\n",
       "        -1.23654777e-06, -7.44994285e-06,  1.32195430e-07,  1.19242093e-06,\n",
       "        -5.01240687e-06, -5.98149651e-08,  1.24580212e-06,  1.12936708e-07,\n",
       "        -4.71701909e-07,  2.32971479e-05,  5.47345228e-07,  1.10776099e-06,\n",
       "        -2.53329651e-19, -1.46685935e-06,  8.72220533e-07,  6.57720772e-08,\n",
       "        -1.12991993e-06,  7.85044604e-07, -1.33847405e-06,  2.62612522e-05,\n",
       "        -5.70046707e-06, -5.59937071e-07, -3.99938654e-06, -2.33613631e-06,\n",
       "         9.96605932e-06,  2.57199016e-07, -4.79495915e-06,  1.34023527e-06,\n",
       "         7.86181116e-08, -7.48709039e-06,  1.13098862e-06, -1.33351768e-07,\n",
       "        -2.32840378e-06,  9.29835372e-07, -2.96954250e-07, -1.96815011e-05,\n",
       "         4.99449290e-06,  9.10796696e-07, -1.36686558e-06, -3.62485318e-06,\n",
       "        -3.64762646e-06,  4.17708597e-13, -1.67689808e-06, -7.43170871e-06,\n",
       "        -4.22365637e-06, -9.36538245e-06,  4.92206098e-07, -1.06096877e-05,\n",
       "        -7.12359883e-06, -1.29813572e-06,  1.20567055e-05, -8.40908613e-06,\n",
       "        -9.70457006e-06,  0.00000000e+00,  3.22127004e-06, -2.24587622e-07,\n",
       "         2.94662865e-06,  8.92455555e-06, -7.58380192e-07,  6.65040054e-06,\n",
       "         7.01806988e-06,  7.28917935e-06, -6.30784952e-06, -3.53960313e-06,\n",
       "        -6.03522013e-06, -1.08569521e-05, -8.22297234e-06,  1.40768032e-05,\n",
       "         5.52480789e-06, -3.49440783e-06,  3.34373826e-06,  9.13214841e-06,\n",
       "        -1.02202223e-06, -1.62953577e-06, -8.52821942e-07,  1.38652959e-06,\n",
       "        -3.66234763e-08,  6.94502285e-11,  5.52042557e-06, -8.76424800e-30,\n",
       "        -2.29996009e-06, -4.33060991e-08,  1.43229914e-06,  5.15702634e-07,\n",
       "         2.73328691e-06, -1.90658948e-07, -4.89068572e-07, -3.36312454e-06,\n",
       "         4.13259480e-06,  1.71788412e-06, -2.12433933e-05,  8.60330781e-06,\n",
       "        -5.21854921e-08,  4.04129043e-06,  5.36716391e-06, -8.08946672e-06,\n",
       "        -9.14674094e-06,  1.07092903e-06, -8.85967872e-06, -3.84462592e-06,\n",
       "         4.67877832e-07, -1.08175108e-05,  3.28436147e-07, -6.39701219e-06,\n",
       "         2.63282258e-06, -9.99831957e-07,  7.85066332e-06, -1.79667793e-06,\n",
       "         3.64178559e-06, -6.04127068e-06, -4.80893922e-13, -1.72000168e-05,\n",
       "         8.31842269e-07, -3.42722712e-07, -8.64405065e-06,  1.40635010e-07,\n",
       "        -1.32524325e-06, -8.27154759e-07, -2.20897904e-05, -4.45798530e-07,\n",
       "        -1.38571468e-07, -1.66530294e-05, -1.54394297e-06,  8.38556053e-06,\n",
       "         3.83438019e-06, -7.36305513e-08,  7.52129052e-08, -1.21157639e-06,\n",
       "        -1.50682310e-06, -1.32770233e-06, -1.66583104e-05, -5.67189324e-07,\n",
       "        -5.95963306e-07, -2.26440240e-07, -8.27389377e-07,  6.02077243e-06,\n",
       "        -7.23274761e-06, -2.47538883e-05, -2.53769201e-07, -3.61168495e-15,\n",
       "         3.68638491e-06,  2.22446912e-06,  1.03085078e-05,  1.03462849e-06,\n",
       "        -4.10980737e-07,  7.10814667e-07, -3.91529718e-06, -2.06275133e-06,\n",
       "         1.30245967e-06,  1.90568171e-06,  1.06685179e-07,  6.98922244e-06,\n",
       "         7.73103129e-07,  1.52420068e-06, -1.52745330e-06, -6.81558504e-07,\n",
       "        -6.78749385e-08, -1.12723911e-06, -8.14427882e-07,  1.01808034e-05,\n",
       "         2.66263025e-06,  8.84296261e-07,  1.67381773e-05, -4.87459233e-06,\n",
       "         5.64115921e-07,  3.32539404e-06, -1.38637184e-05, -5.44613369e-06,\n",
       "        -7.59113191e-06, -4.28069146e-09,  0.00000000e+00,  1.15265909e-06,\n",
       "        -4.22121329e-10, -4.56702076e-06,  9.50784498e-07, -1.14346373e-06,\n",
       "        -1.77467454e-05,  1.16571656e-05,  2.85755093e-06, -2.90136100e-06,\n",
       "         4.62392029e-09, -1.27078993e-06, -7.40742971e-06, -2.68272008e-05,\n",
       "        -1.02860169e-06, -2.81901828e-06,  1.54842182e-05, -1.22128269e-07,\n",
       "         2.61597246e-08, -3.54596701e-07, -9.87504853e-06, -2.47374391e-06,\n",
       "        -8.21075753e-06,  5.08753586e-07, -4.76483280e-06, -2.36196483e-06,\n",
       "         2.71539946e-06,  2.36469487e-07, -2.54839890e-06, -3.98325611e-07,\n",
       "         9.85753430e-07,  8.44086851e-07,  1.36149714e-09, -8.15173822e-07,\n",
       "        -1.38877640e-06, -3.14341784e-06, -4.16557605e-06, -2.65283589e-05,\n",
       "         4.27538763e-06, -4.52787975e-06,  2.09440300e-06, -1.47045964e-08,\n",
       "        -7.39994115e-06, -3.18797048e-06,  1.03861549e-05, -1.44536319e-05,\n",
       "        -5.17955812e-07,  2.01734786e-06, -1.33009778e-06, -1.37350207e-19,\n",
       "        -3.23661202e-06, -7.60818192e-06,  9.80925172e-06,  2.18652340e-06,\n",
       "         2.03247933e-07, -6.56812757e-09, -1.16708856e-07,  5.99494574e-06,\n",
       "         8.12383895e-06,  1.18984347e-06,  2.82039524e-07,  2.12457037e-14,\n",
       "        -3.81327443e-06,  2.42408493e-14,  1.86662874e-07, -7.91774351e-37,\n",
       "         1.40870878e-07,  3.85498474e-06,  1.78144397e-07,  8.92325815e-07,\n",
       "         1.00270901e-06,  1.84943677e-06, -9.86208379e-06,  1.62514586e-06,\n",
       "         9.28539894e-07, -9.06422488e-11, -1.95470279e-06, -4.49474338e-09,\n",
       "        -3.52217942e-06,  9.05147188e-07,  2.76313880e-08,  4.78644244e-06,\n",
       "        -3.21872729e-06,  2.09370267e-05, -2.32997609e-06,  1.09268952e-05,\n",
       "        -4.02901538e-07, -5.34558938e-06,  4.22322505e-06, -6.13634382e-07,\n",
       "         1.84414438e-06,  5.83310770e-06,  4.39805107e-06, -6.90526010e-06,\n",
       "        -6.07999150e-06,  2.01608500e-05,  9.38239686e-07, -8.45752329e-06,\n",
       "        -5.15090655e-06,  2.31450177e-06, -7.37934089e-06, -4.13808888e-06,\n",
       "         0.00000000e+00,  5.58808019e-07, -1.03107264e-06,  6.98301133e-06,\n",
       "         6.97668404e-07,  1.97952349e-06, -5.59455780e-06,  1.82775279e-06,\n",
       "        -9.18443069e-07,  4.29582571e-07,  4.54634533e-06, -1.23040387e-05,\n",
       "        -1.94388241e-07, -5.94413691e-07, -4.36296212e-07, -3.02832115e-06,\n",
       "         4.24719540e-07,  1.24947314e-07,  1.25758883e-08, -3.25104733e-10,\n",
       "         3.08559500e-06,  9.94758499e-07, -1.04920071e-05,  2.70211561e-06,\n",
       "        -5.40747308e-06,  3.45366236e-06,  2.77050936e-07,  7.10181754e-06,\n",
       "        -1.55043508e-06,  2.54532012e-06,  2.56071057e-07, -1.17991545e-05,\n",
       "         2.15781554e-06, -1.33505960e-06, -1.04095197e-06,  1.75280304e-10,\n",
       "        -7.68604209e-07, -1.28584749e-06,  1.42555367e-05, -1.31511495e-07,\n",
       "         9.33314780e-06, -5.46726522e-07, -1.07357351e-06,  1.87942322e-06,\n",
       "        -2.54956830e-06, -2.80698024e-06,  5.95870076e-07, -3.14091976e-07,\n",
       "         1.29363911e-06,  6.84499579e-06, -1.97205747e-06,  1.09925399e-06,\n",
       "         9.88716961e-08, -1.35242189e-07,  1.19973374e-06, -1.94403524e-06,\n",
       "        -6.88665458e-06, -1.68215869e-06,  9.81617820e-07,  2.68799006e-06,\n",
       "         2.90703540e-06,  4.07137140e-07,  1.60982974e-06,  4.07273084e-07,\n",
       "        -5.21862545e-06,  1.16418825e-06, -2.35905933e-07,  8.30951720e-06,\n",
       "        -2.92620658e-07, -2.74139557e-06,  4.57820937e-06, -6.27826871e-06,\n",
       "        -5.29678365e-07, -1.33150849e-06,  4.89681930e-08,  3.23991047e-07,\n",
       "        -5.46086092e-06,  2.42558138e-06, -3.59978755e-07, -2.12394310e-05,\n",
       "        -2.33862258e-06,  1.62333452e-07,  7.08194242e-33, -2.78001516e-06,\n",
       "         6.66663087e-06, -3.57730494e-07,  4.10566892e-06, -3.82189451e-07,\n",
       "        -1.18138813e-05, -1.52053654e-06,  1.53641513e-05,  1.12497332e-08,\n",
       "        -2.16137688e-06, -1.31875497e-06,  1.44992343e-06,  8.55504989e-06,\n",
       "        -1.30332128e-05,  1.94166670e-06,  1.31229891e-06,  8.57970158e-07,\n",
       "         3.95961260e-06,  9.83567883e-06,  2.30626922e-06,  7.13326244e-07,\n",
       "        -5.10476790e-06, -1.09299317e-06,  1.47266878e-07, -1.07197351e-05,\n",
       "         9.08997979e-08, -4.73308125e-13, -1.27325760e-07,  2.60886204e-05,\n",
       "        -8.18109454e-07,  3.20693260e-06, -1.84855751e-06,  2.07317648e-06,\n",
       "        -4.80507979e-06,  0.00000000e+00,  8.36787364e-19,  8.64202319e-07,\n",
       "        -2.27096586e-06,  5.36937795e-07, -2.02625449e-09, -4.88046350e-06,\n",
       "         1.19992175e-05, -6.53581891e-07,  9.81010509e-06,  7.20557610e-07,\n",
       "         3.02367933e-06, -1.61026712e-12, -7.22663193e-07,  1.04844096e-05,\n",
       "        -3.50882654e-07, -9.65988133e-06,  1.94872281e-06, -2.95264643e-06,\n",
       "         7.12433876e-08, -1.10585098e-10, -3.01209346e-06, -1.12958555e-05,\n",
       "         3.66103892e-06, -2.81590656e-07,  7.77811737e-06, -2.71515299e-07,\n",
       "        -4.65231438e-07,  5.55799205e-07, -1.03492324e-06, -1.09412086e-06,\n",
       "         7.05220669e-07,  4.06696813e-08,  7.23828427e-07, -5.67505151e-07,\n",
       "        -6.81594522e-06, -3.55683617e-06,  4.40330038e-07,  8.44977590e-07,\n",
       "         1.74525614e-06,  2.38627168e-06, -1.38219863e-05, -8.14239076e-06,\n",
       "        -1.61890243e-06,  1.42655914e-08,  3.20245635e-06, -2.11204985e-05,\n",
       "         1.63436116e-09, -2.31911780e-06,  4.58358287e-06,  1.32646920e-06,\n",
       "         3.22764656e-06, -1.10782880e-06, -1.07565506e-05,  7.28512724e-07,\n",
       "         9.72415271e-09, -1.70906086e-06, -1.66295860e-05,  1.61145068e-06,\n",
       "        -5.52769904e-06, -6.77110443e-07, -1.66976528e-05,  9.66923096e-07,\n",
       "        -1.81110490e-05,  8.16805251e-07,  1.72867115e-05, -2.43675893e-07,\n",
       "        -9.87994743e-07, -7.95964009e-08, -1.13746036e-16,  9.04821277e-06,\n",
       "        -3.28272631e-09, -2.34052708e-06,  4.25260906e-06,  1.46314385e-07,\n",
       "        -1.01932986e-06,  1.62058490e-07, -9.36718897e-06,  3.08755090e-06,\n",
       "        -1.09694468e-05,  2.37731324e-06,  1.48953683e-05,  4.63221623e-06,\n",
       "        -4.39871368e-06,  5.62325868e-06, -7.87173249e-07,  9.78215290e-06,\n",
       "         4.28314643e-07, -8.41293788e-06,  4.50751796e-06,  1.73030867e-08,\n",
       "        -2.20876427e-05, -3.52306755e-06, -3.72148937e-06, -9.53993064e-08,\n",
       "        -1.17735464e-06, -4.46935778e-06,  1.59648453e-06,  6.10663134e-08,\n",
       "         5.03841040e-06,  1.94567607e-05, -4.10038055e-06, -5.43061113e-06,\n",
       "         2.07700019e-05, -4.27985280e-08,  2.10136754e-06, -2.28404978e-07,\n",
       "         8.73733623e-09,  3.20608236e-06, -5.25850490e-06,  1.02571006e-07,\n",
       "         2.74982899e-06,  4.41065779e-06,  7.58497479e-06, -8.61159379e-07,\n",
       "         6.70868579e-06,  1.10271648e-05,  2.42827224e-21, -1.50485210e-08,\n",
       "         4.80814433e-06,  7.71797760e-06, -9.62726535e-06,  1.99310529e-06,\n",
       "         9.01156839e-09,  4.30755836e-06,  5.30209552e-06, -1.04308747e-06,\n",
       "         0.00000000e+00, -1.10665240e-06, -3.54418870e-07,  2.04821516e-06,\n",
       "         1.82808860e-11,  1.19138045e-06, -2.24080952e-07, -1.34338221e-06,\n",
       "        -1.46127382e-07, -8.45026306e-06,  1.12446603e-06,  1.27506158e-05,\n",
       "         5.92491357e-07,  1.45513818e-06,  8.82898776e-06,  3.04751133e-06,\n",
       "         1.39703360e-06,  1.87804318e-07,  0.00000000e+00,  0.00000000e+00,\n",
       "        -4.58980746e-06,  2.45639422e-06,  2.07015273e-07, -2.89753563e-06,\n",
       "        -2.07727307e-06,  3.58451120e-06,  1.17815543e-05, -1.08861325e-07,\n",
       "        -6.88306793e-06,  5.40194053e-06, -8.95817714e-07,  1.08798867e-05,\n",
       "        -6.94689913e-06, -8.47900084e-07, -1.51585420e-05, -9.27776098e-07,\n",
       "        -5.23627132e-07, -6.99856979e-06, -5.22743248e-06, -2.35869825e-07,\n",
       "        -6.06356742e-06,  5.96074154e-07, -1.23032443e-06, -1.78927870e-07,\n",
       "        -2.33021679e-06,  1.78136609e-07, -1.24765354e-07, -1.21020950e-06,\n",
       "         0.00000000e+00, -1.69050074e-06, -7.36469178e-07,  6.69629153e-07,\n",
       "        -3.58322592e-07,  3.83815926e-07,  3.77260329e-06,  1.01145074e-06,\n",
       "        -6.15421904e-06,  2.94009413e-14, -1.83129247e-06,  2.82757909e-06,\n",
       "         0.00000000e+00, -2.40406978e-06,  1.28933557e-05,  9.81953824e-07,\n",
       "         1.45182454e-07,  9.47604061e-07,  3.22787664e-06, -3.37615294e-07,\n",
       "        -3.65966209e-07,  3.30255514e-06,  7.53960707e-08, -2.84685409e-07,\n",
       "        -4.23660957e-06, -7.20149634e-06,  1.61503463e-06, -1.93676118e-06,\n",
       "        -1.11837700e-06, -4.43052587e-06, -1.40011756e-06, -1.55572168e-06,\n",
       "         4.99287488e-06, -7.13013087e-06, -1.04980093e-05, -2.46077868e-17,\n",
       "         1.88016690e-06, -2.10030321e-06,  1.44653420e-06,  5.25352401e-07,\n",
       "         2.90843137e-06,  7.01780606e-07, -4.48978182e-07, -4.80195188e-06,\n",
       "        -2.55210002e-07,  2.09267100e-08, -8.08192576e-07,  3.45173517e-08,\n",
       "        -5.93160664e-06,  7.85885478e-06, -4.79149659e-29, -4.05717239e-07,\n",
       "        -7.05664506e-06,  8.66348275e-06,  1.21847818e-06, -8.98181369e-06,\n",
       "         1.24343971e-06, -1.26418088e-07, -1.34410316e-05,  4.97298347e-07,\n",
       "        -3.25770941e-06, -6.71623018e-06, -1.06421490e-07,  7.11520526e-07,\n",
       "         3.40607010e-06, -1.09317355e-07, -6.56535796e-07, -1.11571120e-05,\n",
       "         1.42862236e-05, -1.24042107e-05,  6.11583824e-06, -6.83342557e-07,\n",
       "         1.11470508e-05, -4.34400922e-08,  1.87108828e-05, -1.71797615e-05,\n",
       "         1.27131303e-05, -4.14041559e-07, -1.18628777e-06, -2.18636492e-07,\n",
       "        -4.91800781e-06, -8.36415351e-06,  4.78366847e-06,  3.17530465e-07,\n",
       "         1.21401987e-16, -8.73593358e-06, -1.73712208e-06,  1.86931964e-06,\n",
       "         7.45535867e-09,  2.43449773e-05,  3.57719155e-06,  2.57140457e-06,\n",
       "        -5.87637510e-06,  4.58488021e-06, -1.29133293e-06,  1.81192102e-13,\n",
       "        -2.43679630e-06,  0.00000000e+00,  5.68505206e-08, -9.56378234e-10,\n",
       "         2.60126427e-05,  5.60167791e-07, -1.70592506e-06, -2.68406173e-06,\n",
       "         3.13945885e-06, -5.49360473e-09,  2.60759505e-06,  1.89292426e-06,\n",
       "         6.12901664e-08, -1.04574976e-07, -2.63125966e-06, -6.31917805e-06,\n",
       "         6.73146324e-06, -8.87443212e-08,  7.22837567e-06,  3.25983967e-06,\n",
       "         1.14300596e-07, -4.80018997e-07, -5.31111358e-06,  2.25466054e-05,\n",
       "        -3.22680627e-06,  1.71853156e-05,  4.50037199e-11, -1.21645065e-05,\n",
       "        -1.45893723e-07,  3.40443918e-06, -1.19516814e-06, -1.53178912e-05,\n",
       "        -1.25728380e-06,  0.00000000e+00,  1.12836625e-05, -9.05159970e-44,\n",
       "         2.63010723e-06, -8.54699588e-06, -9.42165887e-07,  8.16290888e-07,\n",
       "        -9.67204685e-08, -3.83262715e-09,  7.08290413e-21,  2.90100369e-07,\n",
       "        -7.63782897e-07, -2.45650296e-06, -4.93066419e-06, -3.71862021e-29,\n",
       "        -4.43254265e-10, -6.71738423e-06, -5.85488034e-06,  1.47210754e-07,\n",
       "         1.17784990e-06,  8.87731721e-06,  6.02152131e-07,  3.38507409e-06,\n",
       "         3.02430552e-07,  5.80583240e-07, -4.35334689e-07, -1.83249345e-07,\n",
       "         9.58574046e-06, -2.32837749e-07, -7.25283642e-07,  3.25749929e-06,\n",
       "        -9.31518371e-07, -4.30893261e-21, -3.36830240e-06,  2.37030086e-07,\n",
       "        -6.23277089e-06, -3.12477564e-06,  8.02195336e-06, -1.68804193e-07,\n",
       "         4.13007419e-06, -1.99807255e-06,  4.51406676e-08,  6.88287655e-06,\n",
       "        -2.50893388e-06,  2.51247724e-06,  3.68550909e-06,  4.18459453e-07,\n",
       "        -3.48547508e-06, -9.32684417e-08,  3.43231094e-05,  4.25254998e-06,\n",
       "         3.90221361e-06,  9.78855865e-07, -1.15280110e-06,  6.44397536e-07,\n",
       "         2.64143392e-05, -1.31191765e-06,  7.06968512e-07, -8.93401602e-07,\n",
       "        -1.08640928e-05,  2.23178029e-05,  1.16725732e-06,  1.55027131e-06,\n",
       "        -5.26638971e-06,  1.21526380e-07, -1.91227251e-06,  2.50289968e-06,\n",
       "        -4.36464919e-08,  3.10641084e-06,  2.10132376e-06, -1.38468101e-06,\n",
       "        -2.27774955e-06, -1.25620220e-06, -6.21420866e-06, -3.17162012e-06,\n",
       "        -1.08851782e-06,  1.98108142e-06, -5.39274636e-06,  5.36583647e-07,\n",
       "         5.13347576e-06,  3.77184585e-07,  1.76254087e-06,  0.00000000e+00,\n",
       "         3.65175567e-06, -2.30614756e-07, -2.98182168e-06,  7.02866391e-06,\n",
       "        -6.31464991e-07,  1.48235593e-05,  8.74460381e-06, -2.00642119e-06])}"
      ]
     },
     "execution_count": 120,
     "metadata": {},
     "output_type": "execute_result"
    }
   ],
   "source": [
    "grad_backprop"
   ]
  },
  {
   "cell_type": "code",
   "execution_count": null,
   "id": "d1cd0fe0",
   "metadata": {},
   "outputs": [],
   "source": []
  },
  {
   "cell_type": "code",
   "execution_count": 121,
   "id": "2c19e995",
   "metadata": {},
   "outputs": [
    {
     "name": "stdout",
     "output_type": "stream",
     "text": [
      "10000\n",
      "4692\n",
      "46.92\n"
     ]
    }
   ],
   "source": [
    "iters_num = 10000  #만 개\n",
    "print(iters_num)\n",
    "train_size = x.shape[0]\n",
    "print(train_size)\n",
    "batch_size = 100 #미니 배치 크기 100\n",
    "learning_rate = 0.1 #학습률 설정\n",
    "iter_per_epoch = max(train_size / batch_size, 1) #몇뭉탱이인지\n",
    "print(iter_per_epoch) #6만개인데 배치크기가 100이라 600뭉치."
   ]
  },
  {
   "cell_type": "code",
   "execution_count": 123,
   "id": "8a6f6c64",
   "metadata": {},
   "outputs": [
    {
     "name": "stdout",
     "output_type": "stream",
     "text": [
      "시그모이드\n",
      "100\n",
      "y: [[0.33497877 0.31146718 0.35355405]\n",
      " [0.29872125 0.32313291 0.37814584]\n",
      " [0.29179078 0.35262824 0.35558098]\n",
      " [0.28280413 0.32923637 0.3879595 ]\n",
      " [0.30603509 0.33007259 0.36389232]\n",
      " [0.30921572 0.34109929 0.34968499]\n",
      " [0.30470163 0.324681   0.37061737]\n",
      " [0.33127044 0.35806695 0.3106626 ]\n",
      " [0.34752893 0.34334651 0.30912456]\n",
      " [0.31259692 0.32347345 0.36392963]\n",
      " [0.33115924 0.32429385 0.34454691]\n",
      " [0.29369064 0.3273393  0.37897005]\n",
      " [0.34014029 0.26855944 0.39130027]\n",
      " [0.37374249 0.28827665 0.33798085]\n",
      " [0.30397787 0.31097101 0.38505112]\n",
      " [0.34380694 0.29773904 0.35845402]\n",
      " [0.31345586 0.32655353 0.3599906 ]\n",
      " [0.307284   0.31149815 0.38121785]\n",
      " [0.34078193 0.32548982 0.33372825]\n",
      " [0.33376061 0.31432298 0.35191641]\n",
      " [0.33557442 0.32977271 0.33465286]\n",
      " [0.28067985 0.34212925 0.3771909 ]\n",
      " [0.31442436 0.32199103 0.36358461]\n",
      " [0.31209947 0.35837952 0.32952101]\n",
      " [0.35500767 0.29524924 0.34974308]\n",
      " [0.29910628 0.32383162 0.3770621 ]\n",
      " [0.3059405  0.34902209 0.34503742]\n",
      " [0.29558689 0.3030864  0.40132671]\n",
      " [0.2959079  0.30164377 0.40244833]\n",
      " [0.37593814 0.28669398 0.33736788]\n",
      " [0.30141449 0.32251156 0.37607395]\n",
      " [0.3060155  0.33117109 0.36281341]\n",
      " [0.32342893 0.32224312 0.35432795]\n",
      " [0.32833972 0.31005692 0.36160336]\n",
      " [0.2691447  0.3111387  0.4197166 ]\n",
      " [0.38143371 0.26194921 0.35661708]\n",
      " [0.26672382 0.30154826 0.43172792]\n",
      " [0.32611836 0.31627708 0.35760456]\n",
      " [0.36579503 0.28460669 0.34959829]\n",
      " [0.34672938 0.3152377  0.33803292]\n",
      " [0.29839401 0.2975382  0.4040678 ]\n",
      " [0.28701638 0.33417488 0.37880874]\n",
      " [0.38347151 0.30259259 0.31393589]\n",
      " [0.30559708 0.33035123 0.36405168]\n",
      " [0.33991157 0.2926756  0.36741282]\n",
      " [0.3318858  0.30757849 0.36053571]\n",
      " [0.26545646 0.32567902 0.40886452]\n",
      " [0.33694036 0.29010899 0.37295065]\n",
      " [0.33452388 0.29699281 0.3684833 ]\n",
      " [0.37804139 0.27609239 0.34586622]\n",
      " [0.31864928 0.31488163 0.36646909]\n",
      " [0.32803302 0.30792153 0.36404545]\n",
      " [0.32268684 0.31505278 0.36226037]\n",
      " [0.32926584 0.29330472 0.37742944]\n",
      " [0.33501836 0.29858607 0.36639557]\n",
      " [0.32060847 0.31264915 0.36674238]\n",
      " [0.34590733 0.27451781 0.37957486]\n",
      " [0.2989995  0.31252369 0.3884768 ]\n",
      " [0.37824135 0.30966757 0.31209108]\n",
      " [0.31592785 0.29279888 0.39127327]\n",
      " [0.33743302 0.31914382 0.34342316]\n",
      " [0.33704016 0.33269701 0.33026283]\n",
      " [0.33326807 0.34046371 0.32626822]\n",
      " [0.33077408 0.27934704 0.38987888]\n",
      " [0.33463033 0.34789218 0.3174775 ]\n",
      " [0.31353723 0.2851995  0.40126327]\n",
      " [0.31189096 0.3673744  0.32073464]\n",
      " [0.30803384 0.30119202 0.39077414]\n",
      " [0.31748237 0.30770127 0.37481637]\n",
      " [0.28052013 0.3546995  0.36478038]\n",
      " [0.33583398 0.28393189 0.38023413]\n",
      " [0.31713636 0.30459953 0.3782641 ]\n",
      " [0.35644569 0.29136104 0.35219328]\n",
      " [0.32474837 0.31149581 0.36375581]\n",
      " [0.31586192 0.31376447 0.37037361]\n",
      " [0.31924456 0.3364898  0.34426563]\n",
      " [0.3475322  0.28283032 0.36963748]\n",
      " [0.32996086 0.28247405 0.38756508]\n",
      " [0.28644158 0.31343472 0.4001237 ]\n",
      " [0.33990978 0.28367401 0.37641621]\n",
      " [0.27983698 0.33857292 0.38159009]\n",
      " [0.35045413 0.2994699  0.35007597]\n",
      " [0.3237478  0.30385492 0.37239728]\n",
      " [0.40526479 0.2450563  0.34967891]\n",
      " [0.37776553 0.27443049 0.34780398]\n",
      " [0.2983817  0.32580046 0.37581784]\n",
      " [0.33700919 0.33630887 0.32668195]\n",
      " [0.32614271 0.31022057 0.36363672]\n",
      " [0.29510636 0.38113398 0.32375965]\n",
      " [0.34078193 0.32548982 0.33372825]\n",
      " [0.32599023 0.33721374 0.33679603]\n",
      " [0.32161008 0.33542328 0.34296664]\n",
      " [0.29179078 0.35262824 0.35558098]\n",
      " [0.29808301 0.31531371 0.38660329]\n",
      " [0.3819844  0.28520631 0.33280929]\n",
      " [0.32833972 0.31005692 0.36160336]\n",
      " [0.33510537 0.31695741 0.34793723]\n",
      " [0.31521879 0.2912125  0.3935687 ]\n",
      " [0.30043521 0.30522847 0.39433633]\n",
      " [0.3451568  0.30483312 0.35001008]]\n",
      "t:   (0, 0)\t1.0\n",
      "  (1, 0)\t1.0\n",
      "  (2, 0)\t1.0\n",
      "  (3, 2)\t1.0\n",
      "  (4, 2)\t1.0\n",
      "  (5, 1)\t1.0\n",
      "  (6, 1)\t1.0\n",
      "  (7, 0)\t1.0\n",
      "  (8, 2)\t1.0\n",
      "  (9, 1)\t1.0\n",
      "  (10, 0)\t1.0\n",
      "  (11, 1)\t1.0\n",
      "  (12, 2)\t1.0\n",
      "  (13, 1)\t1.0\n",
      "  (14, 1)\t1.0\n",
      "  (15, 2)\t1.0\n",
      "  (16, 0)\t1.0\n",
      "  (17, 1)\t1.0\n",
      "  (18, 1)\t1.0\n",
      "  (19, 2)\t1.0\n",
      "  (20, 0)\t1.0\n",
      "  (21, 2)\t1.0\n",
      "  (22, 2)\t1.0\n",
      "  (23, 0)\t1.0\n",
      "  (24, 0)\t1.0\n",
      "  :\t:\n",
      "  (75, 2)\t1.0\n",
      "  (76, 1)\t1.0\n",
      "  (77, 2)\t1.0\n",
      "  (78, 0)\t1.0\n",
      "  (79, 1)\t1.0\n",
      "  (80, 0)\t1.0\n",
      "  (81, 2)\t1.0\n",
      "  (82, 2)\t1.0\n",
      "  (83, 2)\t1.0\n",
      "  (84, 1)\t1.0\n",
      "  (85, 2)\t1.0\n",
      "  (86, 2)\t1.0\n",
      "  (87, 0)\t1.0\n",
      "  (88, 1)\t1.0\n",
      "  (89, 1)\t1.0\n",
      "  (90, 0)\t1.0\n",
      "  (91, 1)\t1.0\n",
      "  (92, 0)\t1.0\n",
      "  (93, 2)\t1.0\n",
      "  (94, 2)\t1.0\n",
      "  (95, 1)\t1.0\n",
      "  (96, 2)\t1.0\n",
      "  (97, 2)\t1.0\n",
      "  (98, 1)\t1.0\n",
      "  (99, 0)\t1.0\n",
      "[[-0.66502123  0.31146718  0.35355405]\n",
      " [-0.70127875  0.32313291  0.37814584]\n",
      " [-0.70820922  0.35262824  0.35558098]\n",
      " [ 0.28280413  0.32923637 -0.6120405 ]\n",
      " [ 0.30603509  0.33007259 -0.63610768]\n",
      " [ 0.30921572 -0.65890071  0.34968499]\n",
      " [ 0.30470163 -0.675319    0.37061737]\n",
      " [-0.66872956  0.35806695  0.3106626 ]\n",
      " [ 0.34752893  0.34334651 -0.69087544]\n",
      " [ 0.31259692 -0.67652655  0.36392963]\n",
      " [-0.66884076  0.32429385  0.34454691]\n",
      " [ 0.29369064 -0.6726607   0.37897005]\n",
      " [ 0.34014029  0.26855944 -0.60869973]\n",
      " [ 0.37374249 -0.71172335  0.33798085]\n",
      " [ 0.30397787 -0.68902899  0.38505112]\n",
      " [ 0.34380694  0.29773904 -0.64154598]\n",
      " [-0.68654414  0.32655353  0.3599906 ]\n",
      " [ 0.307284   -0.68850185  0.38121785]\n",
      " [ 0.34078193 -0.67451018  0.33372825]\n",
      " [ 0.33376061  0.31432298 -0.64808359]\n",
      " [-0.66442558  0.32977271  0.33465286]\n",
      " [ 0.28067985  0.34212925 -0.6228091 ]\n",
      " [ 0.31442436  0.32199103 -0.63641539]\n",
      " [-0.68790053  0.35837952  0.32952101]\n",
      " [-0.64499233  0.29524924  0.34974308]\n",
      " [-0.70089372  0.32383162  0.3770621 ]\n",
      " [ 0.3059405   0.34902209 -0.65496258]\n",
      " [ 0.29558689  0.3030864  -0.59867329]\n",
      " [ 0.2959079   0.30164377 -0.59755167]\n",
      " [-0.62406186  0.28669398  0.33736788]\n",
      " [ 0.30141449 -0.67748844  0.37607395]\n",
      " [ 0.3060155   0.33117109 -0.63718659]\n",
      " [-0.67657107  0.32224312  0.35432795]\n",
      " [ 0.32833972 -0.68994308  0.36160336]\n",
      " [ 0.2691447   0.3111387  -0.5802834 ]\n",
      " [-0.61856629  0.26194921  0.35661708]\n",
      " [-0.73327618  0.30154826  0.43172792]\n",
      " [ 0.32611836  0.31627708 -0.64239544]\n",
      " [-0.63420497  0.28460669  0.34959829]\n",
      " [ 0.34672938 -0.6847623   0.33803292]\n",
      " [-0.70160599  0.2975382   0.4040678 ]\n",
      " [ 0.28701638  0.33417488 -0.62119126]\n",
      " [-0.61652849  0.30259259  0.31393589]\n",
      " [ 0.30559708  0.33035123 -0.63594832]\n",
      " [ 0.33991157 -0.7073244   0.36741282]\n",
      " [-0.6681142   0.30757849  0.36053571]\n",
      " [ 0.26545646  0.32567902 -0.59113548]\n",
      " [ 0.33694036  0.29010899 -0.62704935]\n",
      " [ 0.33452388  0.29699281 -0.6315167 ]\n",
      " [-0.62195861  0.27609239  0.34586622]\n",
      " [ 0.31864928  0.31488163 -0.63353091]\n",
      " [ 0.32803302 -0.69207847  0.36404545]\n",
      " [ 0.32268684  0.31505278 -0.63773963]\n",
      " [-0.67073416  0.29330472  0.37742944]\n",
      " [-0.66498164  0.29858607  0.36639557]\n",
      " [ 0.32060847  0.31264915 -0.63325762]\n",
      " [-0.65409267  0.27451781  0.37957486]\n",
      " [ 0.2989995  -0.68747631  0.3884768 ]\n",
      " [-0.62175865  0.30966757  0.31209108]\n",
      " [-0.68407215  0.29279888  0.39127327]\n",
      " [ 0.33743302  0.31914382 -0.65657684]\n",
      " [ 0.33704016 -0.66730299  0.33026283]\n",
      " [ 0.33326807 -0.65953629  0.32626822]\n",
      " [-0.66922592  0.27934704  0.38987888]\n",
      " [-0.66536967  0.34789218  0.3174775 ]\n",
      " [ 0.31353723  0.2851995  -0.59873673]\n",
      " [ 0.31189096  0.3673744  -0.67926536]\n",
      " [-0.69196616  0.30119202  0.39077414]\n",
      " [ 0.31748237 -0.69229873  0.37481637]\n",
      " [ 0.28052013  0.3546995  -0.63521962]\n",
      " [-0.66416602  0.28393189  0.38023413]\n",
      " [-0.68286364  0.30459953  0.3782641 ]\n",
      " [ 0.35644569 -0.70863896  0.35219328]\n",
      " [-0.67525163  0.31149581  0.36375581]\n",
      " [ 0.31586192 -0.68623553  0.37037361]\n",
      " [ 0.31924456  0.3364898  -0.65573437]\n",
      " [ 0.3475322  -0.71716968  0.36963748]\n",
      " [ 0.32996086  0.28247405 -0.61243492]\n",
      " [-0.71355842  0.31343472  0.4001237 ]\n",
      " [ 0.33990978 -0.71632599  0.37641621]\n",
      " [-0.72016302  0.33857292  0.38159009]\n",
      " [ 0.35045413  0.2994699  -0.64992403]\n",
      " [ 0.3237478   0.30385492 -0.62760272]\n",
      " [ 0.40526479  0.2450563  -0.65032109]\n",
      " [ 0.37776553 -0.72556951  0.34780398]\n",
      " [ 0.2983817   0.32580046 -0.62418216]\n",
      " [ 0.33700919  0.33630887 -0.67331805]\n",
      " [-0.67385729  0.31022057  0.36363672]\n",
      " [ 0.29510636 -0.61886602  0.32375965]\n",
      " [ 0.34078193 -0.67451018  0.33372825]\n",
      " [-0.67400977  0.33721374  0.33679603]\n",
      " [ 0.32161008 -0.66457672  0.34296664]\n",
      " [-0.70820922  0.35262824  0.35558098]\n",
      " [ 0.29808301  0.31531371 -0.61339671]\n",
      " [ 0.3819844   0.28520631 -0.66719071]\n",
      " [ 0.32833972 -0.68994308  0.36160336]\n",
      " [ 0.33510537  0.31695741 -0.65206277]\n",
      " [ 0.31521879  0.2912125  -0.6064313 ]\n",
      " [ 0.30043521 -0.69477153  0.39433633]\n",
      " [-0.6548432   0.30483312  0.35001008]]\n",
      "백워드 기울기 계산\n",
      "size of dz1:  (100, 1000)\n",
      "시그모이드\n",
      "<class 'numpy.ndarray'>\n",
      "시그모이드\n",
      "(100, 1000)\n",
      "시그모이드\n",
      "시그모이드\n",
      "(100, 1000)\n",
      "시그모이드\n",
      "시그모이드\n"
     ]
    },
    {
     "ename": "ValueError",
     "evalue": "non-broadcastable output operand with shape (3,) doesn't match the broadcast shape (1,3)",
     "output_type": "error",
     "traceback": [
      "\u001b[1;31m---------------------------------------------------------------------------\u001b[0m",
      "\u001b[1;31mValueError\u001b[0m                                Traceback (most recent call last)",
      "\u001b[1;32m<ipython-input-123-1909e8ff861d>\u001b[0m in \u001b[0;36m<module>\u001b[1;34m\u001b[0m\n\u001b[0;32m     10\u001b[0m     \u001b[1;31m#배개 변수 갱신\u001b[0m\u001b[1;33m\u001b[0m\u001b[1;33m\u001b[0m\u001b[1;33m\u001b[0m\u001b[0m\n\u001b[0;32m     11\u001b[0m     \u001b[1;32mfor\u001b[0m \u001b[0mkey\u001b[0m \u001b[1;32min\u001b[0m \u001b[1;33m(\u001b[0m\u001b[1;34m'W1'\u001b[0m\u001b[1;33m,\u001b[0m \u001b[1;34m'b1'\u001b[0m\u001b[1;33m,\u001b[0m \u001b[1;34m'W2'\u001b[0m\u001b[1;33m,\u001b[0m \u001b[1;34m'b2'\u001b[0m\u001b[1;33m)\u001b[0m\u001b[1;33m:\u001b[0m\u001b[1;33m\u001b[0m\u001b[1;33m\u001b[0m\u001b[0m\n\u001b[1;32m---> 12\u001b[1;33m         \u001b[0mnetwork\u001b[0m\u001b[1;33m.\u001b[0m\u001b[0mparams\u001b[0m\u001b[1;33m[\u001b[0m\u001b[0mkey\u001b[0m\u001b[1;33m]\u001b[0m \u001b[1;33m-=\u001b[0m \u001b[0mlearning_rate\u001b[0m \u001b[1;33m*\u001b[0m \u001b[0mgrad\u001b[0m\u001b[1;33m[\u001b[0m\u001b[0mkey\u001b[0m\u001b[1;33m]\u001b[0m\u001b[1;33m\u001b[0m\u001b[1;33m\u001b[0m\u001b[0m\n\u001b[0m\u001b[0;32m     13\u001b[0m \u001b[1;33m\u001b[0m\u001b[0m\n\u001b[0;32m     14\u001b[0m     \u001b[1;31m#학습 경과 기록\u001b[0m\u001b[1;33m\u001b[0m\u001b[1;33m\u001b[0m\u001b[1;33m\u001b[0m\u001b[0m\n",
      "\u001b[1;31mValueError\u001b[0m: non-broadcastable output operand with shape (3,) doesn't match the broadcast shape (1,3)"
     ]
    }
   ],
   "source": [
    "for i in range(iters_num):\n",
    "    #미니배치 획득\n",
    "    batch_mask = np.random.choice(train_size, batch_size) # 원소 갯수를 배치크기만큼 뽑기? 인덱스번호.[123,146,7,88568,]\n",
    "    x_batch = x[batch_mask] #트레인에서 인덱스를 찾아서 배치 생성.(배치사이즈만큼이지.)\n",
    "    t_batch = oh_labels[batch_mask]\n",
    "    \n",
    "    #grad = network.numerical_gradient(x_batch, t_batch)\n",
    "    grad = network.gradient(x_batch, t_batch) # 성능 개선판   #네트워크 기울기를 구함?\n",
    "    \n",
    "    #배개 변수 갱신\n",
    "    for key in ('W1', 'b1', 'W2', 'b2'):\n",
    "        network.params[key] -= learning_rate * grad[key]\n",
    "    \n",
    "    #학습 경과 기록\n",
    "    loss = network.loss(x_batch, t_batch)\n",
    "    train_loss_list.append(loss)\n",
    "    \n",
    "    # Loss출력\n",
    "    if i % iter_per_epoch == 0: #배치마다 로스 출력\n",
    "        print(\"loss: \" + str(loss))"
   ]
  },
  {
   "cell_type": "code",
   "execution_count": null,
   "id": "8cde5ef8",
   "metadata": {},
   "outputs": [],
   "source": [
    "train_acc = network.accuracy(x, oh_labels.toarray())"
   ]
  },
  {
   "cell_type": "code",
   "execution_count": null,
   "id": "67116af8",
   "metadata": {},
   "outputs": [],
   "source": [
    "train_acc"
   ]
  },
  {
   "cell_type": "code",
   "execution_count": null,
   "id": "989c0a6c",
   "metadata": {},
   "outputs": [],
   "source": [
    "x"
   ]
  },
  {
   "cell_type": "code",
   "execution_count": null,
   "id": "dccc244a",
   "metadata": {},
   "outputs": [],
   "source": [
    "print(oh_labels.toarray())"
   ]
  },
  {
   "cell_type": "code",
   "execution_count": null,
   "id": "a8e82c62",
   "metadata": {},
   "outputs": [],
   "source": []
  }
 ],
 "metadata": {
  "kernelspec": {
   "display_name": "Python 3",
   "language": "python",
   "name": "python3"
  },
  "language_info": {
   "codemirror_mode": {
    "name": "ipython",
    "version": 3
   },
   "file_extension": ".py",
   "mimetype": "text/x-python",
   "name": "python",
   "nbconvert_exporter": "python",
   "pygments_lexer": "ipython3",
   "version": "3.7.10"
  }
 },
 "nbformat": 4,
 "nbformat_minor": 5
}
